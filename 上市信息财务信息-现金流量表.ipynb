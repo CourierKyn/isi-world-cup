{
 "cells": [
  {
   "cell_type": "code",
   "execution_count": null,
   "metadata": {},
   "outputs": [],
   "source": [
    "import pandas as pd\n",
    "import numpy as np\n",
    "import re"
   ]
  },
  {
   "cell_type": "code",
   "execution_count": null,
   "metadata": {},
   "outputs": [],
   "source": [
    "data=pd.read_excel('赛题1数据材料\\赛题1数据集\\上市信息财务信息-现金流量表.xlsx')"
   ]
  },
  {
   "cell_type": "code",
   "execution_count": null,
   "metadata": {},
   "outputs": [],
   "source": [
    "data"
   ]
  },
  {
   "cell_type": "code",
   "execution_count": null,
   "metadata": {},
   "outputs": [],
   "source": [
    "#将单位全部统一为以元为单位\n",
    "def convert(cell):\n",
    "    pattern1=(r'(-?\\d+\\.?\\d+)亿')\n",
    "    pattern2=(r'(-?\\d+\\.?\\d+)万亿')\n",
    "    pattern3=(r'(-?\\d+\\.?\\d+)万')\n",
    "    pattern4=(r'(-?\\d+\\.?\\d+)')\n",
    "    if re.findall(pattern1,cell)!=[]:\n",
    "        cell=float(re.findall(pattern1, cell)[0])/1000\n",
    "    elif re.findall(pattern2,cell)!=[]:\n",
    "        cell=float(re.findall(pattern2, cell)[0])\n",
    "    elif re.findall(pattern3,cell)!=[]:\n",
    "        cell=float(re.findall(pattern3, cell)[0])/100000000\n",
    "    elif re.findall(pattern4,cell)!=[]:         \n",
    "        cell=float(re.findall(pattern4, cell)[0])/1000000000000  \n",
    "    elif cell=='nan'or cell=='--':\n",
    "        cell=np.nan\n",
    "    else: cell=float(cell)\n",
    "    return cell"
   ]
  },
  {
   "cell_type": "code",
   "execution_count": null,
   "metadata": {},
   "outputs": [],
   "source": [
    "# data.iloc[:,3]=data.iloc[:,3].apply(str).map(convert)\n",
    "# data.iloc[:,4]=data.iloc[:,4].apply(str).map(convert)\n",
    "# data.iloc[:,5]=data.iloc[:,5].apply(str).map(convert)\n",
    "# data.iloc[:,6]=data.iloc[:,6].apply(str).map(convert)\n",
    "# data.iloc[:,7]=data.iloc[:,7].apply(str).map(convert)\n",
    "# data.iloc[:,8]=data.iloc[:,8].apply(str).map(convert)\n",
    "# data.iloc[:,9]=data.iloc[:,9].apply(str).map(convert)\n",
    "# data.iloc[:,10]=data.iloc[:,10].apply(str).map(convert)\n",
    "# data.iloc[:,11]=data.iloc[:,11].apply(str).map(convert)\n",
    "# data.iloc[:,12]=data.iloc[:,12].apply(str).map(convert)\n",
    "# data.iloc[:,13]=data.iloc[:,13].apply(str).map(convert)\n",
    "# data.iloc[:,14]=data.iloc[:,14].apply(str).map(convert)\n",
    "# data.iloc[:,15]=data.iloc[:,15].apply(str).map(convert)\n",
    "# data.iloc[:,16]=data.iloc[:,16].apply(str).map(convert)\n",
    "# data.iloc[:,17]=data.iloc[:,17].apply(str).map(convert)\n",
    "# data.iloc[:,18]=data.iloc[:,18].apply(str).map(convert)\n",
    "# data.iloc[:,19]=data.iloc[:,19].apply(str).map(convert)\n",
    "# data.iloc[:,20]=data.iloc[:,20].apply(str).map(convert)\n",
    "# data.iloc[:,21]=data.iloc[:,21].apply(str).map(convert)\n",
    "# data.iloc[:,22]=data.iloc[:,22].apply(str).map(convert)\n",
    "# data.iloc[:,23]=data.iloc[:,23].apply(str).map(convert)\n",
    "# data.iloc[:,24]=data.iloc[:,24].apply(str).map(convert)\n",
    "# data.iloc[:,25]=data.iloc[:,25].apply(str).map(convert)\n",
    "# data.iloc[:,26]=data.iloc[:,26].apply(str).map(convert)"
   ]
  },
  {
   "cell_type": "code",
   "execution_count": null,
   "metadata": {},
   "outputs": [],
   "source": [
    "data.iloc[:,3:]=data.iloc[:,3:].applymap(str).applymap(convert)"
   ]
  },
  {
   "cell_type": "code",
   "execution_count": null,
   "metadata": {},
   "outputs": [],
   "source": [
    "data"
   ]
  },
  {
   "cell_type": "code",
   "execution_count": null,
   "metadata": {},
   "outputs": [],
   "source": [
    "#查看出现较多的时间\n",
    "data['日期'].value_counts()"
   ]
  },
  {
   "cell_type": "code",
   "execution_count": null,
   "metadata": {},
   "outputs": [],
   "source": [
    "#补全时间，规整时间的格式\n",
    "pattern='\\d\\d\\d\\d-\\d\\d-\\d\\d'\n",
    "for i in range(len(data)):\n",
    "    if re.findall(pattern,data.iloc[i,2])==[]:\n",
    "        data.iloc[i,2]='20'+data.iloc[i,2]"
   ]
  },
  {
   "cell_type": "code",
   "execution_count": null,
   "metadata": {},
   "outputs": [],
   "source": [
    "#去除企业编号与日期值同时相同的行，保留第一次出现的行\n",
    "data.drop_duplicates(subset=['企业编号','日期'],keep='first',inplace=True)"
   ]
  },
  {
   "cell_type": "code",
   "execution_count": null,
   "metadata": {},
   "outputs": [],
   "source": [
    "#再次查看出现较多的时间\n",
    "data['日期'].value_counts()"
   ]
  },
  {
   "cell_type": "code",
   "execution_count": null,
   "metadata": {},
   "outputs": [],
   "source": [
    "#将数量较少的日期全部丢弃\n",
    "timelist=list(['2017-09-30','2017-12-31','2018-06-30','2018-09-30','2017-06-30','2018-03-31'])\n",
    "data=data[data['日期'].isin(timelist)]\n",
    "data"
   ]
  },
  {
   "cell_type": "code",
   "execution_count": null,
   "metadata": {},
   "outputs": [],
   "source": [
    "data.sort_values(by=['企业编号','日期'],inplace=True)"
   ]
  },
  {
   "cell_type": "code",
   "execution_count": null,
   "metadata": {},
   "outputs": [],
   "source": [
    "#查看排序结果是否达到目标效果\n",
    "data.columns=pd.Index(['企业编号', '标题', '日期', '$经营:销售商品、提供劳务收到的现金(元)', '$经营:收到的税费返还(元)',\n",
    "       '$经营:收到其他与经营活动有关的现金(元)', '$经营:经营活动现金流入小计(元)', '$经营:购买商品、接受劳务支付的现金(元)',\n",
    "       '$经营:支付给职工以及为职工支付的现金(元)', '$经营:支付的各项税费(元)', '$经营:支付其他与经营活动有关的现金(元)',\n",
    "       '$经营:经营活动现金流出小计(元)', '$经营:经营活动产生的现金流量净额(元)', '$投资:取得投资收益所收到的现金(元)',\n",
    "       '$投资:处置固定资产、无形资产和其他长期资产收回的现金净额(元)', '$投资:投资活动现金流入小计(元)',\n",
    "       '$投资:购建固定资产、无形资产和其他长期资产支付的现金(元)', '$投资:投资支付的现金(元)', '$投资:投资活动现金流出小计(元)',\n",
    "       '$投资:投资活动产生的现金流量净额(元)', '$筹资:吸收投资收到的现金(元)', '$筹资:取得借款收到的现金(元)',\n",
    "       '$筹资:筹资活动现金流入小计(元)', '$筹资:偿还债务支付的现金(元)', '$筹资:分配股利、利润或偿付利息支付的现金(元)',\n",
    "       '$筹资:筹资活动现金流出小计(元)', '$筹资活动产生的现金流量净额(元)'])"
   ]
  },
  {
   "cell_type": "code",
   "execution_count": null,
   "metadata": {},
   "outputs": [],
   "source": [
    "data=data.set_index(['企业编号','日期'])\n",
    "data=data.unstack().reset_index().set_index('企业编号').T.drop('标题')"
   ]
  },
  {
   "cell_type": "code",
   "execution_count": null,
   "metadata": {},
   "outputs": [],
   "source": [
    "data=data.reindex(columns=list(range(1001,4001)))\n",
    "data.to_pickle('上市信息财务信息-现金流量表.pickle')\n",
    "data"
   ]
  },
  {
   "cell_type": "code",
   "execution_count": null,
   "metadata": {},
   "outputs": [],
   "source": [
    "data.index"
   ]
  }
 ],
 "metadata": {
  "kernelspec": {
   "name": "python3",
   "language": "python",
   "display_name": "Python 3"
  },
  "language_info": {
   "name": "python",
   "pygments_lexer": "ipython3"
  }
 },
 "nbformat": 4,
 "nbformat_minor": 2
}
