{
 "cells": [
  {
   "cell_type": "code",
   "execution_count": null,
   "metadata": {},
   "outputs": [],
   "source": [
    "from IPython.display import display\n",
    "import pandas as pd\n",
    "import csv\n",
    "import random\n",
    "import re\n",
    "# import pyperclip\n",
    "import numpy as np\n",
    "import seaborn as sns\n",
    "import requests\n",
    "import matplotlib, matplotlib.pyplot as plt\n",
    "import pprint\n",
    "import os\n",
    "import dateutil\n",
    "import datetime"
   ]
  },
  {
   "cell_type": "code",
   "execution_count": null,
   "metadata": {},
   "outputs": [],
   "source": [
    "pd.options.display.max_rows = 10\n",
    "sns.set()\n",
    "matplotlib.rcParams['font.sans-serif'] = ['Arial Unicode MS', 'sans-serif']"
   ]
  },
  {
   "cell_type": "code",
   "execution_count": null,
   "metadata": {},
   "outputs": [],
   "source": [
    "%matplotlib notebook"
   ]
  },
  {
   "cell_type": "code",
   "execution_count": null,
   "metadata": {},
   "outputs": [],
   "source": [
    "df = pd.read_excel('赛题1数据材料/赛题1数据集/项目信息.xlsx', index_col='企业编号')\n",
    "df['企业规模'] = df['企业规模'].str.replace(\n",
    "    '500-1000人', '500-2000人'\n",
    ").replace(\n",
    "    '1000人以上', '500-2000人'\n",
    ").replace(\n",
    "    '16228', '10000人以上'\n",
    ").replace(\n",
    "    '40507', '10000人以上'\n",
    ").replace(\n",
    "    '289', '150-500人'\n",
    ").replace(\n",
    "    '300-500人', '150-500人'\n",
    ").replace(\n",
    "    '10594', '10000人以上'\n",
    ").replace(\n",
    "    '17478', '10000人以上'\n",
    ").replace(\n",
    "    '3926', '2000-5000人'\n",
    ").replace(\n",
    "    '少于15人', '15人以下'\n",
    ").replace(\n",
    "    '589', '500-2000人'\n",
    ")\n",
    "df"
   ]
  },
  {
   "cell_type": "code",
   "execution_count": null,
   "metadata": {},
   "outputs": [],
   "source": [
    "def limit(cell):\n",
    "    if cell > 1:\n",
    "        return 1\n",
    "    return cell"
   ]
  },
  {
   "cell_type": "code",
   "execution_count": null,
   "metadata": {},
   "outputs": [],
   "source": [
    "industry = pd.get_dummies(df['行业'], prefix='行业').groupby('企业编号').sum().T\n",
    "industry = industry.applymap(limit).reindex(columns=list(range(1001, 4001))).fillna(0)\n",
    "industry"
   ]
  },
  {
   "cell_type": "code",
   "execution_count": null,
   "metadata": {},
   "outputs": [],
   "source": [
    "business_scale = pd.get_dummies(df['企业规模'], prefix='企业规模').groupby('企业编号').mean().T\n",
    "business_scale = business_scale.reindex(columns=list(range(1001, 4001))).fillna(0)\n",
    "business_scale"
   ]
  },
  {
   "cell_type": "code",
   "execution_count": null,
   "metadata": {},
   "outputs": [],
   "source": [
    "operational_status = pd.get_dummies(df['运营状态'], prefix='运营状态').groupby('企业编号').mean().T\n",
    "operational_status = operational_status.reindex(columns=list(range(1001, 4001))).fillna(0)\n",
    "operational_status"
   ]
  },
  {
   "cell_type": "code",
   "execution_count": null,
   "metadata": {},
   "outputs": [],
   "source": [
    "def to_day(cell):\n",
    "    if not isinstance(cell, str):\n",
    "        return cell\n",
    "    return (dateutil.parser.parse(cell) - datetime.datetime(2019, 3, 5)).days"
   ]
  },
  {
   "cell_type": "code",
   "execution_count": null,
   "metadata": {},
   "outputs": [],
   "source": [
    "project_establishment_time = df[['项目成立时间']].applymap(to_day).groupby('企业编号').mean().T\n",
    "project_establishment_time = project_establishment_time.reindex(columns=list(range(1001, 4001)))\n",
    "project_establishment_time"
   ]
  },
  {
   "cell_type": "code",
   "execution_count": null,
   "metadata": {},
   "outputs": [],
   "source": [
    "data=pd.concat([industry, business_scale, operational_status, project_establishment_time])\n",
    "data.to_pickle('项目信息.pickle')"
   ]
  },
  {
   "cell_type": "code",
   "execution_count": null,
   "metadata": {},
   "outputs": [],
   "source": [
    "data.index"
   ]
  },
  {
   "cell_type": "code",
   "execution_count": null,
   "metadata": {},
   "outputs": [],
   "source": [
    "data"
   ]
  }
 ],
 "metadata": {
  "kernelspec": {
   "name": "python3",
   "language": "python",
   "display_name": "Python 3"
  },
  "language_info": {
   "name": "python",
   "pygments_lexer": "ipython3"
  }
 },
 "nbformat": 4,
 "nbformat_minor": 2
}
