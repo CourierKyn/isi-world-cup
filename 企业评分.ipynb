{
 "cells": [
  {
   "cell_type": "code",
   "execution_count": 1,
   "metadata": {},
   "outputs": [],
   "source": [
    "from IPython.display import display\n",
    "import pandas as pd\n",
    "import csv\n",
    "import random\n",
    "import re\n",
    "# import pyperclip\n",
    "import numpy as np\n",
    "import seaborn as sns\n",
    "import requests\n",
    "import matplotlib, matplotlib.pyplot as plt\n",
    "import pprint\n",
    "import os\n",
    "import dateutil\n",
    "import datetime"
   ]
  },
  {
   "cell_type": "code",
   "execution_count": 2,
   "metadata": {},
   "outputs": [],
   "source": [
    "pd.options.display.max_rows = 10\n",
    "sns.set()\n",
    "matplotlib.rcParams['font.sans-serif'] = ['Arial Unicode MS', 'sans-serif']"
   ]
  },
  {
   "cell_type": "code",
   "execution_count": 3,
   "metadata": {},
   "outputs": [],
   "source": [
    "%matplotlib notebook"
   ]
  },
  {
   "cell_type": "code",
   "execution_count": 4,
   "metadata": {},
   "outputs": [
    {
     "data": {
      "text/html": [
       "<div>\n",
       "<style scoped>\n",
       "    .dataframe tbody tr th:only-of-type {\n",
       "        vertical-align: middle;\n",
       "    }\n",
       "\n",
       "    .dataframe tbody tr th {\n",
       "        vertical-align: top;\n",
       "    }\n",
       "\n",
       "    .dataframe thead th {\n",
       "        text-align: right;\n",
       "    }\n",
       "</style>\n",
       "<table border=\"1\" class=\"dataframe\">\n",
       "  <thead>\n",
       "    <tr style=\"text-align: right;\">\n",
       "      <th>企业编号</th>\n",
       "      <th>1001</th>\n",
       "      <th>1002</th>\n",
       "      <th>1003</th>\n",
       "      <th>1004</th>\n",
       "      <th>1005</th>\n",
       "      <th>1006</th>\n",
       "      <th>1007</th>\n",
       "      <th>1008</th>\n",
       "      <th>1009</th>\n",
       "      <th>1010</th>\n",
       "      <th>...</th>\n",
       "      <th>3989</th>\n",
       "      <th>3990</th>\n",
       "      <th>3991</th>\n",
       "      <th>3993</th>\n",
       "      <th>3994</th>\n",
       "      <th>3996</th>\n",
       "      <th>3997</th>\n",
       "      <th>3998</th>\n",
       "      <th>3999</th>\n",
       "      <th>4000</th>\n",
       "    </tr>\n",
       "  </thead>\n",
       "  <tbody>\n",
       "    <tr>\n",
       "      <th>企业总评分</th>\n",
       "      <td>75.374276</td>\n",
       "      <td>79.830122</td>\n",
       "      <td>78.318264</td>\n",
       "      <td>83.253376</td>\n",
       "      <td>83.291493</td>\n",
       "      <td>82.013621</td>\n",
       "      <td>87.675653</td>\n",
       "      <td>79.592075</td>\n",
       "      <td>78.236148</td>\n",
       "      <td>80.895705</td>\n",
       "      <td>...</td>\n",
       "      <td>85.628368</td>\n",
       "      <td>89.138134</td>\n",
       "      <td>89.026461</td>\n",
       "      <td>85.464011</td>\n",
       "      <td>91.502586</td>\n",
       "      <td>86.733076</td>\n",
       "      <td>84.795885</td>\n",
       "      <td>93.740963</td>\n",
       "      <td>88.803712</td>\n",
       "      <td>84.142749</td>\n",
       "    </tr>\n",
       "  </tbody>\n",
       "</table>\n",
       "<p>1 rows × 2804 columns</p>\n",
       "</div>"
      ],
      "text/plain": [
       "企业编号        1001       1002       1003       1004       1005       1006  \\\n",
       "企业总评分  75.374276  79.830122  78.318264  83.253376  83.291493  82.013621   \n",
       "\n",
       "企业编号        1007       1008       1009       1010    ...           3989  \\\n",
       "企业总评分  87.675653  79.592075  78.236148  80.895705    ...      85.628368   \n",
       "\n",
       "企业编号        3990       3991       3993       3994       3996       3997  \\\n",
       "企业总评分  89.138134  89.026461  85.464011  91.502586  86.733076  84.795885   \n",
       "\n",
       "企业编号        3998       3999       4000  \n",
       "企业总评分  93.740963  88.803712  84.142749  \n",
       "\n",
       "[1 rows x 2804 columns]"
      ]
     },
     "execution_count": 4,
     "metadata": {},
     "output_type": "execute_result"
    }
   ],
   "source": [
    "df = pd.read_excel('赛题1数据材料/赛题1数据集/企业评分.xlsx', index_col='企业编号').drop_duplicates().T\n",
    "df.to_pickle('企业评分.pickle')\n",
    "df"
   ]
  }
 ],
 "metadata": {
  "kernelspec": {
   "display_name": "Python 3",
   "language": "python",
   "name": "python3"
  },
  "language_info": {
   "codemirror_mode": {
    "name": "ipython",
    "version": 3
   },
   "file_extension": ".py",
   "mimetype": "text/x-python",
   "name": "python",
   "nbconvert_exporter": "python",
   "pygments_lexer": "ipython3",
   "version": "3.7.1"
  }
 },
 "nbformat": 4,
 "nbformat_minor": 2
}
