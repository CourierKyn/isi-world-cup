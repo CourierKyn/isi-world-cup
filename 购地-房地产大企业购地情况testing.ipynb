{
 "cells": [
  {
   "cell_type": "code",
   "execution_count": null,
   "metadata": {},
   "outputs": [],
   "source": [
    "from IPython.display import display\n",
    "import pandas as pd\n",
    "import csv\n",
    "import random\n",
    "import re\n",
    "# import pyperclip\n",
    "import numpy as np\n",
    "import seaborn as sns\n",
    "import requests\n",
    "import matplotlib, matplotlib.pyplot as plt\n",
    "import pprint\n",
    "import os\n",
    "import dateutil\n",
    "import datetime"
   ]
  },
  {
   "cell_type": "code",
   "execution_count": null,
   "metadata": {},
   "outputs": [],
   "source": [
    "pd.options.display.max_rows = 10\n",
    "sns.set()\n",
    "matplotlib.rcParams['font.sans-serif'] = ['Arial Unicode MS', 'sans-serif']"
   ]
  },
  {
   "cell_type": "code",
   "execution_count": null,
   "metadata": {},
   "outputs": [],
   "source": [
    "%matplotlib notebook"
   ]
  },
  {
   "cell_type": "code",
   "execution_count": null,
   "metadata": {},
   "outputs": [],
   "source": [
    "df = pd.read_excel('赛题1测试数据集\\购地-房地产大企业购地情况.xlsx', index_col='企业编号')\n",
    "df"
   ]
  },
  {
   "cell_type": "code",
   "execution_count": null,
   "metadata": {},
   "outputs": [],
   "source": [
    "def to_day(cell):\n",
    "    if not isinstance(cell, str):\n",
    "        return cell\n",
    "    return (dateutil.parser.parse(cell) - datetime.datetime(2019, 3, 5)).days"
   ]
  },
  {
   "cell_type": "code",
   "execution_count": null,
   "metadata": {},
   "outputs": [],
   "source": [
    "appointment_time = df[['约定动工时间']].applymap(to_day).groupby('企业编号').mean().T\n",
    "appointment_time = appointment_time.reindex(columns=list(range(4001,4526)))\n",
    "appointment_time"
   ]
  },
  {
   "cell_type": "code",
   "execution_count": null,
   "metadata": {},
   "outputs": [],
   "source": [
    "dt = df[['约定竣工时间']].applymap(to_day).groupby('企业编号').mean().T\n",
    "dt = dt.reindex(columns=list(range(4001,4526)))\n",
    "dt\n"
   ]
  },
  {
   "cell_type": "code",
   "execution_count": null,
   "metadata": {},
   "outputs": [],
   "source": [
    "def limit(cell):\n",
    "    if cell > 1:\n",
    "        return 1\n",
    "    return cell"
   ]
  },
  {
   "cell_type": "code",
   "execution_count": null,
   "metadata": {},
   "outputs": [],
   "source": [
    "dummy_1=pd.get_dummies(df[\"供应方式\"],prefix=\"供应方式\")\n",
    "dummy_1=dummy_1.groupby(\"企业编号\").sum().T\n",
    "dummy_1=dummy_1.applymap(limit).reindex(columns=list(range(4001,4526))).fillna(0).reindex(['供应方式_划拨'\n",
    "               , '供应方式_协议出让', '供应方式_拍卖出让', '供应方式_招标出让', '供应方式_挂牌出让']).fillna(0)\n",
    "dummy_1"
   ]
  },
  {
   "cell_type": "code",
   "execution_count": null,
   "metadata": {},
   "outputs": [],
   "source": [
    "m=df.groupby([\"企业编号\"]).sum().drop(columns=[\"供地总面积（公顷）\",\"成交价款（万元）\",\"约定竣工时间\"]).T.reindex(columns=list(range(4001,4526)))\n",
    "m"
   ]
  },
  {
   "cell_type": "code",
   "execution_count": null,
   "metadata": {},
   "outputs": [],
   "source": [
    "appointment_time.append([dt,dummy_1,m]).to_pickle('购地-房地产大企业购地情况-testing.pickle')"
   ]
  },
  {
   "cell_type": "code",
   "execution_count": null,
   "metadata": {},
   "outputs": [],
   "source": []
  }
 ],
 "metadata": {
  "kernelspec": {
   "name": "python3",
   "language": "python",
   "display_name": "Python 3"
  },
  "language_info": {
   "name": "python",
   "pygments_lexer": "ipython3"
  }
 },
 "nbformat": 4,
 "nbformat_minor": 2
}
