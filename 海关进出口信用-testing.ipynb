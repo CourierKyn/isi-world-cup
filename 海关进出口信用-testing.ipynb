{
 "cells": [
  {
   "cell_type": "code",
   "execution_count": null,
   "metadata": {},
   "outputs": [],
   "source": [
    "from IPython.display import display\n",
    "import pandas as pd\n",
    "import csv\n",
    "import random\n",
    "import re\n",
    "# import pyperclip\n",
    "import numpy as np\n",
    "import seaborn as sns\n",
    "import requests\n",
    "import matplotlib, matplotlib.pyplot as plt\n",
    "import pprint\n",
    "import os\n",
    "import dateutil\n",
    "import datetime\n",
    "data=pd.read_excel(\"赛题1测试数据集\\海关进出口信用.xlsx\").drop_duplicates(keep='first')\n",
    "data"
   ]
  },
  {
   "cell_type": "code",
   "execution_count": null,
   "metadata": {},
   "outputs": [],
   "source": [
    "df1=data.set_index(\"经济区划\").loc[[\"一般经济区域\",\"高新技术产业开发区\",\"经济特区\",\"经济技术开发全区\"],:].reset_index().set_index(\"企业编号\")\n",
    "df1"
   ]
  },
  {
   "cell_type": "code",
   "execution_count": null,
   "metadata": {},
   "outputs": [],
   "source": [
    "def limit(cell):\n",
    "    if cell > 1:\n",
    "        return 1\n",
    "    return cell"
   ]
  },
  {
   "cell_type": "code",
   "execution_count": null,
   "metadata": {},
   "outputs": [],
   "source": [
    "dummy_1=pd.get_dummies(df1[\"经济区划\"],prefix=\"经济区划\")\n",
    "dummy_1=dummy_1.groupby(\"企业编号\").mean().T\n",
    "dummy_1=dummy_1.applymap(limit).reindex(columns=list(range(4001,4526))).fillna(0)\n",
    "dummy_1"
   ]
  },
  {
   "cell_type": "code",
   "execution_count": null,
   "metadata": {},
   "outputs": [],
   "source": [
    "df2=data.set_index(\"年报情况\").loc[[\"已报送\",\"未报送\",\"超期未报送\",\"超期报送\",\"不需要\"],:].reset_index().set_index(\"企业编号\")\n",
    "df2"
   ]
  },
  {
   "cell_type": "code",
   "execution_count": null,
   "metadata": {},
   "outputs": [],
   "source": [
    "dummy_2=pd.get_dummies(df2[\"年报情况\"],prefix=\"年报情况\")\n",
    "dummy_2=dummy_2.groupby(\"企业编号\").mean().T\n",
    "dummy_2=dummy_2.applymap(limit).reindex(columns=list(range(4001,4526))).fillna(0)\n",
    "dummy_2"
   ]
  },
  {
   "cell_type": "code",
   "execution_count": null,
   "metadata": {},
   "outputs": [],
   "source": [
    "df3=data.set_index(\"信用等级\").loc[[\"一般信用企业\",\"一般认证企业\",\"高级认证企业\"],:].reset_index().set_index(\"企业编号\")\n",
    "df3"
   ]
  },
  {
   "cell_type": "code",
   "execution_count": null,
   "metadata": {},
   "outputs": [],
   "source": [
    "dummy_3=pd.get_dummies(df3[\"信用等级\"],prefix='信用等级')\n",
    "dummy_3=dummy_3.groupby(\"企业编号\").mean().T\n",
    "dummy_3=dummy_3.applymap(limit).reindex(columns=list(range(4001,4526))).fillna(0)\n",
    "dummy_3"
   ]
  },
  {
   "cell_type": "code",
   "execution_count": null,
   "metadata": {},
   "outputs": [],
   "source": [
    "result_9=dummy_1.append(dummy_2).append(dummy_3).fillna(0)#三表连接\n",
    "result_9"
   ]
  },
  {
   "cell_type": "code",
   "execution_count": null,
   "metadata": {},
   "outputs": [],
   "source": [
    "result_9.to_pickle('海关进出口信用-testing.pickle')"
   ]
  },
  {
   "cell_type": "code",
   "execution_count": null,
   "metadata": {},
   "outputs": [],
   "source": []
  }
 ],
 "metadata": {
  "kernelspec": {
   "name": "python3",
   "language": "python",
   "display_name": "Python 3"
  },
  "language_info": {
   "name": "python",
   "pygments_lexer": "ipython3"
  }
 },
 "nbformat": 4,
 "nbformat_minor": 2
}
