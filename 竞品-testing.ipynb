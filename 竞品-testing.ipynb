{
 "cells": [
  {
   "cell_type": "code",
   "execution_count": null,
   "metadata": {},
   "outputs": [],
   "source": [
    "from IPython.display import display\n",
    "import pandas as pd\n",
    "import csv\n",
    "import random\n",
    "import re\n",
    "# import pyperclip\n",
    "import numpy as np\n",
    "import seaborn as sns\n",
    "import requests\n",
    "import matplotlib, matplotlib.pyplot as plt\n",
    "import pprint\n",
    "import os\n",
    "import dateutil\n",
    "import datetime\n",
    "\n",
    "data=pd.read_excel(\"赛题1测试数据集\\竞品.xlsx\")\n",
    "data"
   ]
  },
  {
   "cell_type": "code",
   "execution_count": null,
   "metadata": {},
   "outputs": [],
   "source": [
    "def limit(cell):\n",
    "    if cell > 1:\n",
    "        return 1\n",
    "    return cell"
   ]
  },
  {
   "cell_type": "code",
   "execution_count": null,
   "metadata": {},
   "outputs": [],
   "source": [
    "df1=data.set_index(\"竞品轮次\").loc[[\"新三板\",\"IPO\",\"战略投资\",\"A轮\",\"天使轮\",\"被收购\",\"新三板定增\",\"上市\",\"B轮\",\"未融资\",\"C轮\"\n",
    "                               ,\"主板定向增发\",\"股权转让\",\"Pre-A轮\",\"种子轮\",\"并购\",\"D轮\",\"A+轮\"],:].reset_index().set_index(\"企业编号\")\n",
    "dummy_1=pd.get_dummies(df1[\"竞品轮次\"],prefix=\"竞品轮次\")\n",
    "dummy_1=dummy_1.groupby(\"企业编号\").sum().T.applymap(limit).reindex(columns=list(range(4001,4526))).fillna(0)\n",
    "dummy_1"
   ]
  },
  {
   "cell_type": "code",
   "execution_count": null,
   "metadata": {},
   "outputs": [],
   "source": [
    "data[\"竞品的行业\"].value_counts()#数量过少忽略\n",
    "data=data.set_index('竞品的行业').reset_index().set_index(\"企业编号\")\n",
    "data"
   ]
  },
  {
   "cell_type": "code",
   "execution_count": null,
   "metadata": {},
   "outputs": [],
   "source": [
    "dummy_2=pd.get_dummies(data[\"竞品的行业\"],prefix=\"竞品的行业\")\n",
    "dummy_2=dummy_2.groupby(\"企业编号\").sum().T.applymap(limit).reindex(columns=list(range(4001,4526))).fillna(0).reindex(['竞品的行业_人工智能', '竞品的行业_企业服务', '竞品的行业_光电', '竞品的行业_公用事业', '竞品的行业_农业',\n",
    "       '竞品的行业_化工', '竞品的行业_医疗健康', '竞品的行业_地产建筑', '竞品的行业_工具', '竞品的行业_房产家居',\n",
    "       '竞品的行业_文娱传媒', '竞品的行业_旅游', '竞品的行业_无人机', '竞品的行业_材料', '竞品的行业_汽车交通',\n",
    "       '竞品的行业_消费生活', '竞品的行业_物流', '竞品的行业_环保', '竞品的行业_生产制造', '竞品的行业_电商',\n",
    "       '竞品的行业_硬件', '竞品的行业_能源矿产', '竞品的行业_金融']).fillna(0)\n",
    "dummy_2"
   ]
  },
  {
   "cell_type": "code",
   "execution_count": null,
   "metadata": {},
   "outputs": [],
   "source": [
    "def to_day(cell):\n",
    "    if not isinstance(cell, str):\n",
    "        return cell\n",
    "    return (dateutil.parser.parse(cell) - datetime.datetime(2019, 3, 5)).days\n",
    "\n",
    "#df=data.set_index(\"企业编号\")\n",
    "dd = data[['竞品成立时间']].applymap(to_day).groupby('企业编号').mean().T\n",
    "dd = dd.reindex(columns=list(range(4001,4526)))\n",
    "dd"
   ]
  },
  {
   "cell_type": "code",
   "execution_count": null,
   "metadata": {},
   "outputs": [],
   "source": [
    "result=dummy_1.append([dummy_2,dd])\n",
    "result"
   ]
  },
  {
   "cell_type": "code",
   "execution_count": null,
   "metadata": {},
   "outputs": [],
   "source": [
    "result.to_pickle('竞品-testing.pickle')"
   ]
  },
  {
   "cell_type": "code",
   "execution_count": null,
   "metadata": {},
   "outputs": [],
   "source": []
  }
 ],
 "metadata": {
  "kernelspec": {
   "name": "python3",
   "language": "python",
   "display_name": "Python 3"
  },
  "language_info": {
   "name": "python",
   "pygments_lexer": "ipython3"
  }
 },
 "nbformat": 4,
 "nbformat_minor": 2
}
