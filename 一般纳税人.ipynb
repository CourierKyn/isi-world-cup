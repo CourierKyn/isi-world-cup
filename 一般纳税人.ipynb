{
 "cells": [
  {
   "cell_type": "code",
   "execution_count": null,
   "metadata": {},
   "outputs": [],
   "source": [
    "import pandas as pd\n",
    "import numpy as np\n",
    "import datetime\n",
    "import dateutil\n",
    "import re"
   ]
  },
  {
   "cell_type": "code",
   "execution_count": null,
   "metadata": {},
   "outputs": [],
   "source": [
    "data=pd.read_excel('赛题1数据材料/赛题1数据集/一般纳税人.xlsx',index_col='企业编号')"
   ]
  },
  {
   "cell_type": "code",
   "execution_count": null,
   "metadata": {},
   "outputs": [],
   "source": [
    "data.columns"
   ]
  },
  {
   "cell_type": "code",
   "execution_count": null,
   "metadata": {},
   "outputs": [],
   "source": [
    "data.drop_duplicates(keep='first',inplace=True)\n",
    "data"
   ]
  },
  {
   "cell_type": "code",
   "execution_count": null,
   "metadata": {},
   "outputs": [],
   "source": [
    "data_1=pd.get_dummies(data['纳税人资格'],prefix='纳税人资格')"
   ]
  },
  {
   "cell_type": "code",
   "execution_count": null,
   "metadata": {},
   "outputs": [],
   "source": [
    "data_1=data_1.groupby('企业编号').sum().T"
   ]
  },
  {
   "cell_type": "code",
   "execution_count": null,
   "metadata": {},
   "outputs": [],
   "source": [
    "data_1"
   ]
  },
  {
   "cell_type": "code",
   "execution_count": null,
   "metadata": {},
   "outputs": [],
   "source": [
    "#规整日期格式\n",
    "def convert(cell):\n",
    "    pattern=r'\\d+'\n",
    "    if cell == '--' or len(re.findall(pattern,cell)) == 0:\n",
    "        return np.nan\n",
    "    return '-'.join(re.findall(pattern, cell))"
   ]
  },
  {
   "cell_type": "code",
   "execution_count": null,
   "metadata": {},
   "outputs": [],
   "source": [
    "datatime=data[['认定日期']].applymap(str).applymap(convert)\n",
    "datatime"
   ]
  },
  {
   "cell_type": "code",
   "execution_count": null,
   "metadata": {},
   "outputs": [],
   "source": [
    "#计算时间间隔\n",
    "def to_datetime(cell):\n",
    "    if not isinstance(cell, str):\n",
    "        return cell\n",
    "    try:\n",
    "        return (dateutil.parser.parse(cell) - datetime.datetime(2019, 3, 5)).days\n",
    "    except:\n",
    "        print(cell)"
   ]
  },
  {
   "cell_type": "code",
   "execution_count": null,
   "metadata": {},
   "outputs": [],
   "source": [
    "data_2=datatime.applymap(to_datetime).groupby('企业编号').mean().T.reindex(columns=list(range(1001,4001)))\n",
    "data_2"
   ]
  },
  {
   "cell_type": "code",
   "execution_count": null,
   "metadata": {},
   "outputs": [],
   "source": [
    "data_3=data[['有效日期期起']].applymap(to_datetime).groupby('企业编号').mean().T.reindex(columns=list(range(1001,4001)))\n",
    "data_3"
   ]
  },
  {
   "cell_type": "code",
   "execution_count": null,
   "metadata": {},
   "outputs": [],
   "source": [
    "data_4=data[['有效截止日期']].applymap(to_datetime).groupby('企业编号').mean().T.reindex(columns=list(range(1001,4001)))\n",
    "data_4"
   ]
  },
  {
   "cell_type": "code",
   "execution_count": null,
   "metadata": {},
   "outputs": [],
   "source": [
    "def limit(cell):\n",
    "    if cell > 1:\n",
    "        return 1\n",
    "    return cell"
   ]
  },
  {
   "cell_type": "code",
   "execution_count": null,
   "metadata": {},
   "outputs": [],
   "source": [
    "data_5=pd.get_dummies(data['登记注册类型'],prefix='登记注册类型').groupby('企业编号').sum().T.applymap(limit).reindex(columns=list(range(1001,4001))).fillna(0)\n",
    "data_5"
   ]
  },
  {
   "cell_type": "code",
   "execution_count": null,
   "metadata": {},
   "outputs": [],
   "source": [
    "data_6=pd.get_dummies(data['纳税人状态'],prefix='纳税人状态').groupby('企业编号').mean().T.reindex(columns=list(range(1001,4001))).fillna(0)\n",
    "data_6"
   ]
  },
  {
   "cell_type": "code",
   "execution_count": null,
   "metadata": {},
   "outputs": [],
   "source": [
    "data_7=pd.get_dummies(data['扣缴义务'],prefix='扣缴义务').groupby('企业编号').mean().T.reindex(columns=list(range(1001,4001))).fillna(0)\n",
    "data_7"
   ]
  },
  {
   "cell_type": "code",
   "execution_count": null,
   "metadata": {},
   "outputs": [],
   "source": [
    "data_8=pd.get_dummies(data['出口状态备案状态'],prefix='出口状态备案状态').groupby('企业编号').mean().T.reindex(columns=list(range(1001,4001))).fillna(0)\n",
    "data_8"
   ]
  },
  {
   "cell_type": "code",
   "execution_count": null,
   "metadata": {},
   "outputs": [],
   "source": [
    "data=pd.concat([data_1,data_2,data_3,data_4,data_5,data_6,data_7,data_8])\n",
    "data.to_pickle('一般纳税人.pickle')\n",
    "data"
   ]
  },
  {
   "cell_type": "code",
   "execution_count": null,
   "metadata": {},
   "outputs": [],
   "source": [
    "data.index"
   ]
  }
 ],
 "metadata": {
  "kernelspec": {
   "name": "python3",
   "language": "python",
   "display_name": "Python 3"
  },
  "language_info": {
   "name": "python",
   "pygments_lexer": "ipython3"
  }
 },
 "nbformat": 4,
 "nbformat_minor": 2
}
