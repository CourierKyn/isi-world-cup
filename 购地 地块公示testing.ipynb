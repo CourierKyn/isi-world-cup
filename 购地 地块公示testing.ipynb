{
 "cells": [
  {
   "cell_type": "code",
   "execution_count": null,
   "metadata": {},
   "outputs": [],
   "source": [
    "from IPython.display import display\n",
    "import pandas as pd\n",
    "import csv\n",
    "import random\n",
    "import re\n",
    "# import pyperclip\n",
    "import numpy as np\n",
    "import seaborn as sns\n",
    "import requests\n",
    "import matplotlib, matplotlib.pyplot as plt\n",
    "import pprint\n",
    "import os\n",
    "import dateutil\n",
    "import datetime"
   ]
  },
  {
   "cell_type": "code",
   "execution_count": null,
   "metadata": {},
   "outputs": [],
   "source": [
    "pd.options.display.max_rows = 10\n",
    "sns.set()\n",
    "matplotlib.rcParams['font.sans-serif'] = ['Arial Unicode MS', 'sans-serif']"
   ]
  },
  {
   "cell_type": "code",
   "execution_count": null,
   "metadata": {},
   "outputs": [],
   "source": [
    "%matplotlib notebook"
   ]
  },
  {
   "cell_type": "code",
   "execution_count": null,
   "metadata": {},
   "outputs": [],
   "source": [
    "def to_number(cell):\n",
    "    if not isinstance(cell, str):\n",
    "        return cell\n",
    "    _ = re.findall(r'\\d+', cell)\n",
    "    if _:\n",
    "        return int(_[0])\n",
    "\n",
    "\n",
    "df = pd.read_excel(\"赛题1测试数据集\\购地-地块公示.xlsx\", index_col=\"企业编号\")\n",
    "df['出让年限'] = df['出让年限'].map(to_number)\n",
    "df"
   ]
  },
  {
   "cell_type": "code",
   "execution_count": null,
   "metadata": {},
   "outputs": [],
   "source": [
    "def to_day(cell):\n",
    "    if not isinstance(cell, str):\n",
    "        return cell\n",
    "    return (dateutil.parser.parse(cell) - datetime.datetime(2019, 3, 5)).days"
   ]
  },
  {
   "cell_type": "code",
   "execution_count": null,
   "metadata": {},
   "outputs": [],
   "source": [
    "time = df[['时间']].applymap(to_day).groupby('企业编号').mean().T\n",
    "time = time.reindex(columns=list(range(4001,4526)))\n",
    "time"
   ]
  },
  {
   "cell_type": "code",
   "execution_count": null,
   "metadata": {},
   "outputs": [],
   "source": [
    "lst = df['土地用途'].value_counts()[df['土地用途'].value_counts() == 1].index\n",
    "\n",
    "\n",
    "def to_land_use(cell):\n",
    "    if not isinstance(cell, str):\n",
    "        return cell\n",
    "    if cell not in lst:\n",
    "        return cell\n",
    "    \n",
    "    \n",
    "land_use = pd.get_dummies(df['土地用途'].map(to_land_use), prefix='土地用途').groupby('企业编号').sum().T\n",
    "land_use = land_use.reindex(columns=list(range(4001,4526))).fillna(0).reindex(['土地用途_05', '土地用途_051', '土地用途_054', '土地用途_05、07', '土地用途_06', '土地用途_061',\n",
    "       '土地用途_07', '土地用途_071', '土地用途_073', '土地用途_100', '土地用途_12',\n",
    "       '土地用途_中低价位、中小套型普通商品住房用地', '土地用途_交通运输用地', '土地用途_仓储用地', '土地用途_住宅用地',\n",
    "       '土地用途_住宿餐饮用地', '土地用途_公共租赁住房用地', '土地用途_公共管理与公共服务用地', '土地用途_公共设施用地',\n",
    "       '土地用途_公路用地', '土地用途_其他住房用地', '土地用途_其他商服用地', '土地用途_其他土地',\n",
    "       '土地用途_其他普通商品住房用地', '土地用途_医卫慈善用地', '土地用途_商务金融用地', '土地用途_商服用地',\n",
    "       '土地用途_土地面积(公顷)', '土地用途_工业用地', '土地用途_工矿仓储用地', '土地用途_廉租住房用地',\n",
    "       '土地用途_批发零售用地', '土地用途_文体娱乐用地', '土地用途_新闻出版用地', '土地用途_机关团体用地', '土地用途_机场用地',\n",
    "       '土地用途_殡葬用地', '土地用途_水工建筑用地', '土地用途_水库水面', '土地用途_港口码头用地', '土地用途_特殊用地',\n",
    "       '土地用途_科教用地', '土地用途_空闲地', '土地用途_管道运输用地', '土地用途_经济适用住房用地', '土地用途_街巷用地',\n",
    "       '土地用途_采矿用地', '土地用途_铁路用地', '土地用途_风景名胜设施用地', '土地用途_高档住宅用地']).fillna(0)\n",
    "land_use"
   ]
  },
  {
   "cell_type": "code",
   "execution_count": null,
   "metadata": {},
   "outputs": [],
   "source": [
    "def shaixuan(cell):\n",
    "    if(cell)>30:\n",
    "        return np.nan\n",
    "    else:\n",
    "        return cell"
   ]
  },
  {
   "cell_type": "code",
   "execution_count": null,
   "metadata": {},
   "outputs": [],
   "source": [
    "land_area_hectare = df[['土地面积（公顷）']].groupby('企业编号').sum().T\n",
    "land_area_hectare = land_area_hectare.reindex(columns=list(range(4001,4526))).applymap(shaixuan)\n",
    "land_area_hectare"
   ]
  },
  {
   "cell_type": "code",
   "execution_count": null,
   "metadata": {},
   "outputs": [],
   "source": [
    "transfer_period = df[['出让年限']].groupby('企业编号').mean().T\n",
    "transfer_period = transfer_period.reindex(columns=list(range(4001,4526)))\n",
    "transfer_period"
   ]
  },
  {
   "cell_type": "code",
   "execution_count": null,
   "metadata": {},
   "outputs": [],
   "source": [
    "def nianxian(cell):\n",
    "    if cell>70:\n",
    "        return np.nan\n",
    "    return cell"
   ]
  },
  {
   "cell_type": "code",
   "execution_count": null,
   "metadata": {},
   "outputs": [],
   "source": [
    "#transaction_price_ten_thousand_yuan = df[['成交价（万元）']].groupby('企业编号').sum().T\n",
    "#transaction_price_ten_thousand_yuan = transaction_price_ten_thousand_yuan.reindex(columns=list(range(4001,4526))).applymap(nianxian)\n",
    "#transaction_price_ten_thousand_yuan"
   ]
  },
  {
   "cell_type": "code",
   "execution_count": null,
   "metadata": {},
   "outputs": [],
   "source": [
    "pd.concat([time, land_use, land_area_hectare, transfer_period]).to_pickle('购地-地块公示-testing.pickle')"
   ]
  },
  {
   "cell_type": "code",
   "execution_count": null,
   "metadata": {},
   "outputs": [],
   "source": []
  }
 ],
 "metadata": {
  "kernelspec": {
   "name": "python3",
   "language": "python",
   "display_name": "Python 3"
  },
  "language_info": {
   "name": "python",
   "pygments_lexer": "ipython3"
  }
 },
 "nbformat": 4,
 "nbformat_minor": 2
}
