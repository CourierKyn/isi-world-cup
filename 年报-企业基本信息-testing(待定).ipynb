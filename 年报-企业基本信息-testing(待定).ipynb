{
 "cells": [
  {
   "cell_type": "code",
   "execution_count": null,
   "metadata": {},
   "outputs": [],
   "source": [
    "from IPython.display import display\n",
    "import pandas as pd\n",
    "import csv\n",
    "import random\n",
    "import re\n",
    "# import pyperclip\n",
    "import numpy as np\n",
    "import seaborn as sns\n",
    "import requests\n",
    "import matplotlib, matplotlib.pyplot as plt\n",
    "import pprint\n",
    "import os\n",
    "import dateutil\n",
    "import datetime\n",
    "\n",
    "data=pd.read_excel(\"赛题1测试数据集\\年报-企业基本信息.xlsx\",index_col=\"企业编号\")\n",
    "data"
   ]
  },
  {
   "cell_type": "code",
   "execution_count": null,
   "metadata": {},
   "outputs": [],
   "source": [
    "def limit(cell):\n",
    "    if cell > 1:\n",
    "        return 1\n",
    "    return cell"
   ]
  },
  {
   "cell_type": "code",
   "execution_count": null,
   "metadata": {},
   "outputs": [],
   "source": [
    "data=data.reset_index()\n",
    "data=data.set_index(['企业编号','年报年份'])\n",
    "data"
   ]
  },
  {
   "cell_type": "code",
   "execution_count": null,
   "metadata": {},
   "outputs": [],
   "source": [
    "dummy_1=pd.get_dummies(data[\"企业经营状态\"],prefix='企业经营状态')\n",
    "dummy_1=dummy_1.groupby([\"企业编号\",'年报年份']).mean()\n",
    "dummy_1[\"企业经营状态_开业\"]=dummy_1[\"企业经营状态_开业\"]+dummy_1[\"企业经营状态_开业/正常经营\"]+dummy_1[\"企业经营状态_正常开业\"]\n",
    "dummy_1=dummy_1.drop(columns=[\"企业经营状态_开业/正常经营\",\"企业经营状态_正常开业\"]).unstack().T\n",
    "dummy_1=dummy_1.applymap(limit).reindex(columns=list(range(4001,4526))).fillna(0)\n",
    "dummy_1"
   ]
  },
  {
   "cell_type": "code",
   "execution_count": null,
   "metadata": {},
   "outputs": [],
   "source": []
  }
 ],
 "metadata": {
  "kernelspec": {
   "name": "python3",
   "language": "python",
   "display_name": "Python 3"
  },
  "language_info": {
   "name": "python",
   "pygments_lexer": "ipython3"
  }
 },
 "nbformat": 4,
 "nbformat_minor": 2
}
