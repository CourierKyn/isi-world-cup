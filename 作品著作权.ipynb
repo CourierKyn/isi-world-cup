{
 "cells": [
  {
   "cell_type": "code",
   "execution_count": 1,
   "metadata": {},
   "outputs": [],
   "source": [
    "import pandas as pd\n",
    "import numpy as np\n",
    "import re"
   ]
  },
  {
   "cell_type": "code",
   "execution_count": 2,
   "metadata": {},
   "outputs": [],
   "source": [
    "data=pd.read_excel('赛题1数据材料/赛题1数据集/作品著作权.xlsx')"
   ]
  },
  {
   "cell_type": "code",
   "execution_count": 3,
   "metadata": {},
   "outputs": [],
   "source": [
    "#去除同一公司信息相同的行\n",
    "data.drop_duplicates(subset=['企业编号','作品著作权类别','作品著作权登记日期'],keep='first',inplace=True)"
   ]
  },
  {
   "cell_type": "code",
   "execution_count": 4,
   "metadata": {},
   "outputs": [
    {
     "data": {
      "text/plain": [
       "美术                     1983\n",
       "文字                      517\n",
       "其他                      202\n",
       "F 美术                    115\n",
       "类似摄制电影方法创作的作品            80\n",
       "工程设计图、产品设计图              79\n",
       "L 其他作品                   51\n",
       "摄影                       36\n",
       "图形                       21\n",
       "作品著作权证书                  21\n",
       "音乐                       20\n",
       "地图、示意图                   18\n",
       "美术作品                     14\n",
       "J 工程设计图、产品设计图            13\n",
       "文字作品                     11\n",
       "变更                       10\n",
       "I 类似摄制电影方法创作作品            4\n",
       "A 文字                      4\n",
       "上海明师科技发展有限公司              4\n",
       "建筑                        3\n",
       "工程设计图、产品设计图作品             2\n",
       "音乐作品                      2\n",
       "张斌                        2\n",
       "赵炜坚                       2\n",
       "模型                        2\n",
       "摄影作品                      2\n",
       "G 摄影                      1\n",
       "电影                        1\n",
       "B 音乐                      1\n",
       "其他作品                      1\n",
       "H 电影                      1\n",
       "陈宇鹏                       1\n",
       "上海烛龙信息科技有限公司              1\n",
       "张记皇冠                      1\n",
       "曲艺                        1\n",
       "万全                        1\n",
       "澄心轩                       1\n",
       "佛山市顺德区孔雀廊娱乐唱片有限公司         1\n",
       "舞蹈                        1\n",
       "电影和类似摄制电影方法创作的作品          1\n",
       "李鹏                        1\n",
       "高学网络科技（上海）有限公司            1\n",
       "电影作品和类似摄制电影的方法创造的作品       1\n",
       "上海畅声网络科技有限公司              1\n",
       "上海浦东新区陆家嘴财富管理培训中心         1\n",
       "西域圣果                      1\n",
       "上海思茸信息科技有限公司              1\n",
       "K 地图、示意图                  1\n",
       "Name: 作品著作权类别, dtype: int64"
      ]
     },
     "execution_count": 4,
     "metadata": {},
     "output_type": "execute_result"
    }
   ],
   "source": [
    "data['作品著作权类别'].value_counts()"
   ]
  },
  {
   "cell_type": "code",
   "execution_count": 5,
   "metadata": {},
   "outputs": [],
   "source": [
    "data=data.set_index('企业编号')\n",
    "#只选取数量较多的类别作研究\n",
    "typelist=['美术','文字','F 美术','类似摄制电影方法创作的作品','其他','工程设计图、产品设计图','L 其他作品']\n",
    "data=data[data['作品著作权类别'].isin(typelist) ]"
   ]
  },
  {
   "cell_type": "code",
   "execution_count": 6,
   "metadata": {},
   "outputs": [],
   "source": [
    "data=pd.get_dummies(data['作品著作权类别'],prefix='作品著作权类别')\n",
    "data=data.groupby('企业编号').sum().T\n",
    "data=data.reindex(columns=list(range(1001,4001))).fillna(0)\n",
    "data.to_pickle('作品著作权.pickle')"
   ]
  }
 ],
 "metadata": {
  "kernelspec": {
   "display_name": "Python 3",
   "language": "python",
   "name": "python3"
  },
  "language_info": {
   "codemirror_mode": {
    "name": "ipython",
    "version": 3
   },
   "file_extension": ".py",
   "mimetype": "text/x-python",
   "name": "python",
   "nbconvert_exporter": "python",
   "pygments_lexer": "ipython3",
   "version": "3.7.1"
  }
 },
 "nbformat": 4,
 "nbformat_minor": 2
}
