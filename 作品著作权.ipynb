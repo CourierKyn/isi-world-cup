{
 "cells": [
  {
   "cell_type": "code",
   "execution_count": null,
   "metadata": {},
   "outputs": [],
   "source": [
    "import pandas as pd\n",
    "import numpy as np\n",
    "import re\n",
    "import datetime\n",
    "import dateutil"
   ]
  },
  {
   "cell_type": "code",
   "execution_count": null,
   "metadata": {},
   "outputs": [],
   "source": [
    "data=pd.read_excel('赛题1数据材料/赛题1数据集/作品著作权.xlsx',index_col=0)\n",
    "data"
   ]
  },
  {
   "cell_type": "code",
   "execution_count": null,
   "metadata": {},
   "outputs": [],
   "source": [
    "#去除同一公司信息相同的行\n",
    "data.drop_duplicates(keep='first',inplace=True)"
   ]
  },
  {
   "cell_type": "code",
   "execution_count": null,
   "metadata": {},
   "outputs": [],
   "source": [
    "count=pd.DataFrame(data.index.value_counts()).T.reindex(columns=list(range(1001,4001))).fillna(0)\n",
    "count.index=pd.Index(['作品著作权_count'])"
   ]
  },
  {
   "cell_type": "code",
   "execution_count": null,
   "metadata": {},
   "outputs": [],
   "source": [
    "#只选取数量较多的类别作研究\n",
    "typelist=['美术','文字','F 美术','类似摄制电影方法创作的作品','其他','工程设计图、产品设计图','L 其他作品']\n",
    "data=data[data['作品著作权类别'].isin(typelist)]"
   ]
  },
  {
   "cell_type": "code",
   "execution_count": null,
   "metadata": {},
   "outputs": [],
   "source": [
    "data"
   ]
  },
  {
   "cell_type": "code",
   "execution_count": null,
   "metadata": {},
   "outputs": [],
   "source": [
    "data_1=pd.get_dummies(data['作品著作权类别'],prefix='作品著作权类别').groupby('企业编号').sum().T.reindex(columns=list(range(1001,4001))).fillna(0)"
   ]
  },
  {
   "cell_type": "code",
   "execution_count": null,
   "metadata": {},
   "outputs": [],
   "source": [
    "#处理时间间隔\n",
    "def to_datetime(cell):\n",
    "    if not isinstance(cell, str):\n",
    "        return cell\n",
    "    try:\n",
    "        return (dateutil.parser.parse(cell) - datetime.datetime(2019, 3, 5)).days\n",
    "    except:\n",
    "        print(cell)"
   ]
  },
  {
   "cell_type": "code",
   "execution_count": null,
   "metadata": {},
   "outputs": [],
   "source": [
    "data['作品著作权登记日期'].value_counts()"
   ]
  },
  {
   "cell_type": "code",
   "execution_count": null,
   "metadata": {},
   "outputs": [],
   "source": [
    "data.replace(['国作登字-2012-A-00066200','国作登字-2013-F-00084814','国作登字-2013-F-00083953','国作登字-2012-A-00066200','国作登字-2013-F-00084814','国作登字-2013-F-00083953'],np.nan,inplace=True)"
   ]
  },
  {
   "cell_type": "code",
   "execution_count": null,
   "metadata": {},
   "outputs": [],
   "source": [
    "data_2=data[['作品著作权登记日期']].applymap(to_datetime).groupby('企业编号').mean().T.reindex(columns=list(range(1001,4001)))"
   ]
  },
  {
   "cell_type": "code",
   "execution_count": null,
   "metadata": {},
   "outputs": [],
   "source": [
    "data_3=data[['作品著作权创作完成日期']].applymap(to_datetime).groupby('企业编号').mean().T.reindex(columns=list(range(1001,4001)))"
   ]
  },
  {
   "cell_type": "code",
   "execution_count": null,
   "metadata": {},
   "outputs": [],
   "source": [
    "data['作品著作权首次发布日期'].replace('42285',np.nan,inplace=True)"
   ]
  },
  {
   "cell_type": "code",
   "execution_count": null,
   "metadata": {},
   "outputs": [],
   "source": [
    "data_4=data[['作品著作权首次发布日期']].applymap(to_datetime).groupby('企业编号').mean().T.reindex(columns=list(range(1001,4001)))"
   ]
  },
  {
   "cell_type": "code",
   "execution_count": null,
   "metadata": {},
   "outputs": [],
   "source": [
    "data=pd.concat([data_1,data_2,data_3,data_4,count])"
   ]
  },
  {
   "cell_type": "code",
   "execution_count": null,
   "metadata": {},
   "outputs": [],
   "source": [
    "data"
   ]
  },
  {
   "cell_type": "code",
   "execution_count": null,
   "metadata": {},
   "outputs": [],
   "source": [
    "data.to_pickle('作品著作权.pickle')"
   ]
  },
  {
   "cell_type": "code",
   "execution_count": null,
   "metadata": {},
   "outputs": [],
   "source": [
    "data.index"
   ]
  }
 ],
 "metadata": {
  "kernelspec": {
   "name": "python3",
   "language": "python",
   "display_name": "Python 3"
  },
  "language_info": {
   "name": "python",
   "pygments_lexer": "ipython3"
  }
 },
 "nbformat": 4,
 "nbformat_minor": 2
}
