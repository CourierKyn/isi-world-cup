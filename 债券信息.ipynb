{
 "cells": [
  {
   "cell_type": "code",
   "execution_count": null,
   "metadata": {},
   "outputs": [],
   "source": [
    "import pandas as pd\n",
    "import numpy as np\n",
    "import re\n",
    "import datetime\n",
    "import dateutil"
   ]
  },
  {
   "cell_type": "code",
   "execution_count": null,
   "metadata": {},
   "outputs": [],
   "source": [
    "data=pd.read_excel('赛题1数据材料\\赛题1数据集\\债券信息.xlsx',index_col=0)\n",
    "data"
   ]
  },
  {
   "cell_type": "code",
   "execution_count": null,
   "metadata": {},
   "outputs": [],
   "source": [
    "data.columns"
   ]
  },
  {
   "cell_type": "code",
   "execution_count": null,
   "metadata": {},
   "outputs": [],
   "source": [
    "data.drop_duplicates(keep='first',inplace=True)\n",
    "count=pd.DataFrame(data.index.value_counts()).T.reindex(columns=list(range(1001,4001))).fillna(0)\n",
    "count.index=pd.Index(['招投标_count'])\n",
    "data"
   ]
  },
  {
   "cell_type": "code",
   "execution_count": null,
   "metadata": {},
   "outputs": [],
   "source": [
    "data_1=pd.get_dummies(data['债券信用评级'],prefix='债券信用评级').groupby('企业编号').mean().T.reindex(columns=list(range(1001,4001))).fillna(0)\n",
    "data_1"
   ]
  },
  {
   "cell_type": "code",
   "execution_count": null,
   "metadata": {},
   "outputs": [],
   "source": [
    "data_2=pd.get_dummies(data['债券品种'],prefix='债券品种').groupby('企业编号').mean().T.reindex(columns=list(range(1001,4001))).fillna(0)\n",
    "data_2"
   ]
  },
  {
   "cell_type": "code",
   "execution_count": null,
   "metadata": {},
   "outputs": [],
   "source": [
    "#计算时间间隔\n",
    "def to_datetime(cell):\n",
    "    if not isinstance(cell, str):\n",
    "        return cell\n",
    "    try:\n",
    "        return (dateutil.parser.parse(cell) - datetime.datetime(2019, 3, 5)).days\n",
    "    except:\n",
    "        print(cell)"
   ]
  },
  {
   "cell_type": "code",
   "execution_count": null,
   "metadata": {},
   "outputs": [],
   "source": [
    "data_3=data[['发行日期']].applymap(to_datetime).groupby('企业编号').mean().T.reindex(columns=list(range(1001,4001)))\n",
    "data_3"
   ]
  },
  {
   "cell_type": "code",
   "execution_count": null,
   "metadata": {},
   "outputs": [],
   "source": [
    "#适用于虚拟变量用sum时\n",
    "def limit(cell):\n",
    "    if cell > 1:\n",
    "        return 1\n",
    "    return cell"
   ]
  },
  {
   "cell_type": "code",
   "execution_count": null,
   "metadata": {},
   "outputs": [],
   "source": [
    "data_4=data[['兑付日期']].applymap(to_datetime).groupby('企业编号').mean().T.reindex(columns=list(range(1001,4001)))\n",
    "data_4"
   ]
  },
  {
   "cell_type": "code",
   "execution_count": null,
   "metadata": {},
   "outputs": [],
   "source": [
    "data_5=data[['计划发行总额（亿元）']].groupby('企业编号').sum().T.reindex(columns=list(range(1001,4001)))\n",
    "data_5"
   ]
  },
  {
   "cell_type": "code",
   "execution_count": null,
   "metadata": {},
   "outputs": [],
   "source": [
    "data_5.index=pd.Index(['$计划发行总额（亿元）'])"
   ]
  },
  {
   "cell_type": "code",
   "execution_count": null,
   "metadata": {},
   "outputs": [],
   "source": [
    "data_5"
   ]
  },
  {
   "cell_type": "code",
   "execution_count": null,
   "metadata": {},
   "outputs": [],
   "source": [
    "data_6=pd.get_dummies(data['流通场所'],prefix='流通场所').groupby('企业编号').mean().T.reindex(columns=list(range(1001,4001))).fillna(0)\n",
    "data_6"
   ]
  },
  {
   "cell_type": "code",
   "execution_count": null,
   "metadata": {},
   "outputs": [],
   "source": [
    "data_7=data[['票面利率（%）']].groupby('企业编号').mean().T.reindex(columns=list(range(1001,4001)))\n",
    "data_7"
   ]
  },
  {
   "cell_type": "code",
   "execution_count": null,
   "metadata": {},
   "outputs": [],
   "source": [
    "data_8=pd.get_dummies(data['付息方式'],prefix='付息方式').groupby('企业编号').mean().T.reindex(columns=list(range(1001,4001))).fillna(0)\n",
    "data_8"
   ]
  },
  {
   "cell_type": "code",
   "execution_count": null,
   "metadata": {},
   "outputs": [],
   "source": [
    "data=pd.concat([data_1,data_2,data_3,data_4,data_5,data_6,data_7,data_8,count])\n",
    "data"
   ]
  },
  {
   "cell_type": "code",
   "execution_count": null,
   "metadata": {},
   "outputs": [],
   "source": [
    "data.to_pickle('债券信息.pickle')"
   ]
  },
  {
   "cell_type": "code",
   "execution_count": null,
   "metadata": {},
   "outputs": [],
   "source": [
    "data.index"
   ]
  }
 ],
 "metadata": {
  "kernelspec": {
   "name": "python3",
   "language": "python",
   "display_name": "Python 3"
  },
  "language_info": {
   "name": "python",
   "pygments_lexer": "ipython3"
  }
 },
 "nbformat": 4,
 "nbformat_minor": 2
}
