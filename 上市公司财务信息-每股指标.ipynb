{
 "cells": [
  {
   "cell_type": "code",
   "execution_count": null,
   "metadata": {},
   "outputs": [],
   "source": [
    "import pandas as pd\n",
    "import numpy as np\n",
    "import re"
   ]
  },
  {
   "cell_type": "code",
   "execution_count": null,
   "metadata": {},
   "outputs": [],
   "source": [
    "data=pd.read_excel('赛题1数据材料\\赛题1数据集\\上市公司财务信息-每股指标.xlsx')"
   ]
  },
  {
   "cell_type": "code",
   "execution_count": null,
   "metadata": {},
   "outputs": [],
   "source": [
    "#查看在表的公司总数\n",
    "len(data['企业编号'].unique())"
   ]
  },
  {
   "cell_type": "code",
   "execution_count": null,
   "metadata": {},
   "outputs": [],
   "source": [
    "#以上证明了有4家公司或许还没上市\n",
    "data"
   ]
  },
  {
   "cell_type": "code",
   "execution_count": null,
   "metadata": {},
   "outputs": [],
   "source": [
    "#将缺失值变为nan\n",
    "data=data.replace('--',np.nan)"
   ]
  },
  {
   "cell_type": "code",
   "execution_count": null,
   "metadata": {},
   "outputs": [],
   "source": [
    "#查看出现较多的时间\n",
    "data['日期'].value_counts()"
   ]
  },
  {
   "cell_type": "code",
   "execution_count": null,
   "metadata": {},
   "outputs": [],
   "source": [
    "#补全时间，规整时间的格式\n",
    "pattern='\\d\\d\\d\\d-\\d\\d-\\d\\d'\n",
    "for i in range(len(data)):\n",
    "    if re.findall(pattern,data.iloc[i,2])==[]:\n",
    "        data.iloc[i,2]='20'+data.iloc[i,2]"
   ]
  },
  {
   "cell_type": "code",
   "execution_count": null,
   "metadata": {},
   "outputs": [],
   "source": [
    "#去除企业编号与日期值相同的行，保留第一次出现的行\n",
    "data.drop_duplicates(subset=['企业编号','日期'],keep='first',inplace=True)"
   ]
  },
  {
   "cell_type": "code",
   "execution_count": null,
   "metadata": {},
   "outputs": [],
   "source": [
    "#查看出现较多的时间\n",
    "data['日期'].value_counts()"
   ]
  },
  {
   "cell_type": "code",
   "execution_count": null,
   "metadata": {},
   "outputs": [],
   "source": [
    "#将数量少于2800的日期全部丢弃\n",
    "timelist=list(['2016-12-31','2017-09-30','2017-12-31','2018-06-30','2018-09-30','2017-06-30','2018-03-31','2017-03-31','2016-09-30'])\n",
    "data=data[data['日期'].isin(timelist)]\n",
    "data"
   ]
  },
  {
   "cell_type": "code",
   "execution_count": null,
   "metadata": {},
   "outputs": [],
   "source": [
    "#转换数据格式\n",
    "def get_number(cell):\n",
    "    if not isinstance(cell, str):\n",
    "        return cell\n",
    "    _ = re.findall(r'[\\d.]+',cell)\n",
    "    if not _:\n",
    "        return None\n",
    "    return float(_[0])"
   ]
  },
  {
   "cell_type": "code",
   "execution_count": null,
   "metadata": {},
   "outputs": [],
   "source": [
    "data.iloc[:,3:]=data.iloc[:,3:].applymap(get_number)"
   ]
  },
  {
   "cell_type": "code",
   "execution_count": null,
   "metadata": {},
   "outputs": [],
   "source": [
    "data.sort_values(by=['企业编号','日期'],inplace=True)"
   ]
  },
  {
   "cell_type": "code",
   "execution_count": null,
   "metadata": {},
   "outputs": [],
   "source": [
    "#查看排序结果是否达到目标效果\n",
    "data"
   ]
  },
  {
   "cell_type": "code",
   "execution_count": null,
   "metadata": {},
   "outputs": [],
   "source": [
    "data.columns"
   ]
  },
  {
   "cell_type": "code",
   "execution_count": null,
   "metadata": {},
   "outputs": [],
   "source": [
    "# '基本每股收益(元)',扣非每股收益(元),稀释每股收益(元),每股净资产(元),每股公积金(元)\n",
    "data=data.drop(columns=['每股未分配利润(元)','每股经营现金流(元)'])\n",
    "# data['每股经营现金流(元)'].describe()\n",
    "# data['每股公积金(元)'].value_counts()"
   ]
  },
  {
   "cell_type": "code",
   "execution_count": null,
   "metadata": {},
   "outputs": [],
   "source": [
    "data.columns=pd.Index(['企业编号', '标题', '日期', '$基本每股收益(元)', '$扣非每股收益(元)', '$稀释每股收益(元)', '$每股净资产(元)',\n",
    "       '$每股公积金(元)'])"
   ]
  },
  {
   "cell_type": "code",
   "execution_count": null,
   "metadata": {},
   "outputs": [],
   "source": [
    "data=data.set_index(['企业编号','日期'])"
   ]
  },
  {
   "cell_type": "code",
   "execution_count": null,
   "metadata": {},
   "outputs": [],
   "source": [
    "data=data.unstack().reset_index().set_index('企业编号').T.drop('标题')"
   ]
  },
  {
   "cell_type": "code",
   "execution_count": null,
   "metadata": {},
   "outputs": [],
   "source": [
    "data=data.reindex(columns=list(range(1001, 4001)))\n",
    "data.to_pickle('上市公司财务信息-每股指标.pickle')\n",
    "data"
   ]
  },
  {
   "cell_type": "code",
   "execution_count": null,
   "metadata": {},
   "outputs": [],
   "source": [
    "data.index"
   ]
  }
 ],
 "metadata": {
  "kernelspec": {
   "name": "python3",
   "language": "python",
   "display_name": "Python 3"
  },
  "language_info": {
   "name": "python",
   "pygments_lexer": "ipython3"
  }
 },
 "nbformat": 4,
 "nbformat_minor": 2
}
