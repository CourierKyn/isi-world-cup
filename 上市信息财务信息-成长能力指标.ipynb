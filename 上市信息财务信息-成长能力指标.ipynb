{
 "cells": [
  {
   "cell_type": "code",
   "execution_count": null,
   "metadata": {},
   "outputs": [],
   "source": [
    "import pandas as pd\n",
    "import numpy as np\n",
    "import re"
   ]
  },
  {
   "cell_type": "code",
   "execution_count": null,
   "metadata": {},
   "outputs": [],
   "source": [
    "data=pd.read_excel('赛题1数据材料\\赛题1数据集\\上市信息财务信息-成长能力指标.xlsx')"
   ]
  },
  {
   "cell_type": "code",
   "execution_count": null,
   "metadata": {},
   "outputs": [],
   "source": [
    "data"
   ]
  },
  {
   "cell_type": "code",
   "execution_count": null,
   "metadata": {},
   "outputs": [],
   "source": [
    "#将单位全部统一为以元为单位\n",
    "def convert(cell):\n",
    "    pattern1=(r'(-?\\d+\\.?\\d+)亿')\n",
    "    pattern2=(r'(-?\\d+\\.?\\d+)万亿')\n",
    "    pattern3=(r'(-?\\d+\\.?\\d+)万')\n",
    "    if re.findall(pattern1,cell)!=[]:\n",
    "        cell=float(re.findall(pattern1, cell)[0])/10000\n",
    "    elif re.findall(pattern2,cell)!=[]:\n",
    "        cell=float(re.findall(pattern2, cell)[0])\n",
    "    elif re.findall(pattern3,cell)!=[]:\n",
    "        cell=float(re.findall(pattern3, cell)[0])/100000000\n",
    "    else: cell=np.nan\n",
    "    return cell"
   ]
  },
  {
   "cell_type": "code",
   "execution_count": null,
   "metadata": {},
   "outputs": [],
   "source": [
    "data['营业总收入(元)']=data['营业总收入(元)'].map(convert)"
   ]
  },
  {
   "cell_type": "code",
   "execution_count": null,
   "metadata": {},
   "outputs": [],
   "source": [
    "data['毛利润(元)']=data['毛利润(元)'].map(convert)"
   ]
  },
  {
   "cell_type": "code",
   "execution_count": null,
   "metadata": {},
   "outputs": [],
   "source": [
    "data['归属净利润(元)']=data['归属净利润(元)'].map(convert)"
   ]
  },
  {
   "cell_type": "code",
   "execution_count": null,
   "metadata": {},
   "outputs": [],
   "source": [
    "data['扣非净利润(元)']=data['扣非净利润(元)'].map(convert)"
   ]
  },
  {
   "cell_type": "code",
   "execution_count": null,
   "metadata": {},
   "outputs": [],
   "source": [
    "data"
   ]
  },
  {
   "cell_type": "code",
   "execution_count": null,
   "metadata": {},
   "outputs": [],
   "source": [
    "#将缺失值'--'变为nan\n",
    "data=data.replace('--',np.nan)"
   ]
  },
  {
   "cell_type": "code",
   "execution_count": null,
   "metadata": {},
   "outputs": [],
   "source": [
    "#查看出现较多的时间\n",
    "data['日期'].value_counts()"
   ]
  },
  {
   "cell_type": "code",
   "execution_count": null,
   "metadata": {},
   "outputs": [],
   "source": [
    "#补全时间，规整时间的格式\n",
    "pattern='\\d\\d\\d\\d-\\d\\d-\\d\\d'\n",
    "for i in range(len(data)):\n",
    "    if re.findall(pattern,data.iloc[i,2])==[]:\n",
    "        data.iloc[i,2]='20'+data.iloc[i,2]"
   ]
  },
  {
   "cell_type": "code",
   "execution_count": null,
   "metadata": {},
   "outputs": [],
   "source": [
    "#去除企业编号与日期值同时相同的行，保留第一次出现的行\n",
    "data.drop_duplicates(subset=['企业编号','日期'],keep='first',inplace=True)"
   ]
  },
  {
   "cell_type": "code",
   "execution_count": null,
   "metadata": {},
   "outputs": [],
   "source": [
    "#再次查看出现较多的时间\n",
    "data['日期'].value_counts()"
   ]
  },
  {
   "cell_type": "code",
   "execution_count": null,
   "metadata": {},
   "outputs": [],
   "source": [
    "#将数量少于2800的日期全部丢弃\n",
    "timelist=list(['2016-12-31','2017-09-30','2017-12-31','2018-06-30','2018-09-30','2017-06-30','2018-03-31','2017-03-31','2016-09-30'])\n",
    "data=data[data['日期'].isin(timelist)]\n",
    "data"
   ]
  },
  {
   "cell_type": "code",
   "execution_count": null,
   "metadata": {},
   "outputs": [],
   "source": [
    "#转换数据格式\n",
    "def get_number(cell):\n",
    "    if not isinstance(cell, str):\n",
    "        return cell\n",
    "    _ = re.findall(r'[\\d.]+',cell)\n",
    "    if not _:\n",
    "        return None\n",
    "    return float(_[0])"
   ]
  },
  {
   "cell_type": "code",
   "execution_count": null,
   "metadata": {},
   "outputs": [],
   "source": [
    "data.iloc[:,3:]=data.iloc[:,3:].applymap(get_number)"
   ]
  },
  {
   "cell_type": "code",
   "execution_count": null,
   "metadata": {},
   "outputs": [],
   "source": [
    "data.sort_values(by=['企业编号','日期'],inplace=True)"
   ]
  },
  {
   "cell_type": "code",
   "execution_count": null,
   "metadata": {},
   "outputs": [],
   "source": [
    "#查看排序结果是否达到目标效果\n",
    "data.columns=pd.Index(['企业编号', '标题', '日期', '$营业总收入(元)', '$毛利润(元)', '$归属净利润(元)', '$扣非净利润(元)',\n",
    "       '营业总收入同比增长(元)', '归属净利润同比增长(元)', '扣非净利润同比增长(元)', '营业总收入滚动环比增长(元)',\n",
    "       '归属净利润滚动环比增长(元)', '扣非净利润滚动环比增长(元)'])"
   ]
  },
  {
   "cell_type": "code",
   "execution_count": null,
   "metadata": {},
   "outputs": [],
   "source": [
    "data=data.set_index(['企业编号','日期'])"
   ]
  },
  {
   "cell_type": "code",
   "execution_count": null,
   "metadata": {},
   "outputs": [],
   "source": [
    "data=data.unstack().reset_index().set_index('企业编号').T.drop('标题')\n",
    "data=data.reindex(columns=list(range(1001,4001)))\n",
    "data.to_pickle('上市信息财务信息-成长能力指标.pickle')"
   ]
  },
  {
   "cell_type": "code",
   "execution_count": null,
   "metadata": {},
   "outputs": [],
   "source": [
    "data.index"
   ]
  }
 ],
 "metadata": {
  "kernelspec": {
   "name": "python3",
   "language": "python",
   "display_name": "Python 3"
  },
  "language_info": {
   "name": "python",
   "pygments_lexer": "ipython3"
  }
 },
 "nbformat": 4,
 "nbformat_minor": 2
}
