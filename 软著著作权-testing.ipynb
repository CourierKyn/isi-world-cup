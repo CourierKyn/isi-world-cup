{
 "cells": [
  {
   "cell_type": "code",
   "execution_count": null,
   "metadata": {},
   "outputs": [],
   "source": [
    "import pandas as pd\n",
    "\n",
    "data=pd.read_excel(\"赛题1测试数据集\\软著著作权.xlsx\")\n",
    "data"
   ]
  },
  {
   "cell_type": "code",
   "execution_count": null,
   "metadata": {},
   "outputs": [],
   "source": [
    "data[\"企业编号\"].value_counts()\n",
    "dict_data = {'企业编号':data[\"企业编号\"].value_counts().index,'著作数量':data[\"企业编号\"].value_counts().values}\n",
    "result_22 = pd.DataFrame(dict_data).sort_values(by=\"企业编号\").set_index(\"企业编号\").T\n",
    "result_22=result_22.reindex(columns=list(range(4001,4526))).fillna(0)\n",
    "result_22"
   ]
  },
  {
   "cell_type": "code",
   "execution_count": null,
   "metadata": {},
   "outputs": [],
   "source": [
    "result_22.to_pickle('软著著作权-testing.pickle')"
   ]
  },
  {
   "cell_type": "code",
   "execution_count": null,
   "metadata": {},
   "outputs": [],
   "source": []
  }
 ],
 "metadata": {
  "kernelspec": {
   "name": "python3",
   "language": "python",
   "display_name": "Python 3"
  },
  "language_info": {
   "name": "python",
   "pygments_lexer": "ipython3"
  }
 },
 "nbformat": 4,
 "nbformat_minor": 2
}
