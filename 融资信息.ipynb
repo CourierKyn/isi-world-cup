{
 "cells": [
  {
   "cell_type": "code",
   "execution_count": null,
   "metadata": {},
   "outputs": [],
   "source": [
    "from IPython.display import display\n",
    "import pandas as pd\n",
    "import csv\n",
    "import random\n",
    "import re\n",
    "# import pyperclip\n",
    "import numpy as np\n",
    "import seaborn as sns\n",
    "import requests\n",
    "import matplotlib, matplotlib.pyplot as plt\n",
    "import pprint\n",
    "import os\n",
    "import dateutil\n",
    "import datetime\n",
    "\n",
    "pd.options.display.max_rows = 10\n",
    "sns.set()\n",
    "matplotlib.rcParams['font.sans-serif'] = ['Arial Unicode MS', 'sans-serif']\n",
    "\n",
    "data=pd.read_excel(\"赛题1数据材料\\赛题1数据集\\融资信息.xlsx\")\n",
    "data=data.replace('未披露',np.nan)\n",
    "data.columns=['企业编号', '融资日期', '轮次', '$投资金额']\n",
    "data"
   ]
  },
  {
   "cell_type": "code",
   "execution_count": null,
   "metadata": {},
   "outputs": [],
   "source": [
    "def to_day(cell):\n",
    "    if not isinstance(cell, str):\n",
    "        return cell\n",
    "    return (dateutil.parser.parse(cell) - datetime.datetime(2019, 3, 5)).days\n",
    "\n",
    "df=data.set_index(\"企业编号\")\n",
    "df1 = df[['融资日期']].applymap(to_day).groupby('企业编号').mean().T\n",
    "df1 = df1.reindex(columns=list(range(1001, 4001)))\n",
    "df1"
   ]
  },
  {
   "cell_type": "code",
   "execution_count": null,
   "metadata": {},
   "outputs": [],
   "source": [
    "data=data.set_index(\"轮次\").loc[[\"IPO\",\"战略投资\",\"A轮\",\"上市\",\"主板定向增发\",\n",
    "                          \"B轮\",\"天使轮\",\"天使轮\",\"股权转让\",\"被收购\",\"C轮\",\"新三板\"],:].reset_index()\n",
    "for i in range(len(data)):\n",
    "    if ( type(data.iloc[i,3])==np.str and data.iloc[i,3][0]!=\"数\"):\n",
    "        if(data.iloc[i,3][-1]==\"万\"):\n",
    "            data.iloc[i,3]=float(data.iloc[i,3][:-1])\n",
    "        elif(data.iloc[i,3][-2]==\"万\"):\n",
    "            data.iloc[i,3]=float(data.iloc[i,3][:-2])\n",
    "        elif(data.iloc[i,3][-3]==\"万\"):\n",
    "            data.iloc[i,3]=float(data.iloc[i,3][:-3])\n",
    "        elif(data.iloc[i,3][-4]==\"万\"):\n",
    "             data.iloc[i,3]=float(data.iloc[i,3][:-4])\n",
    "    elif (type(data.iloc[i,3])==np.str and data.iloc[i,3][0]==\"数\"):\n",
    "            data.iloc[i,3]=np.nan\n",
    "data.columns=[\"轮次\",\"企业编号\",\"融资日期\",\"$投资金额\"]\n",
    "data"
   ]
  },
  {
   "cell_type": "code",
   "execution_count": null,
   "metadata": {},
   "outputs": [],
   "source": [
    "data=data.drop(columns=\"融资日期\").set_index('企业编号')\n",
    "result=data.groupby(['企业编号','轮次']).sum().unstack().T.reindex(columns=list(range(1001, 4001)))\n",
    "result"
   ]
  },
  {
   "cell_type": "code",
   "execution_count": null,
   "metadata": {},
   "outputs": [],
   "source": [
    "result.to_pickle('融资信息.pickle')"
   ]
  },
  {
   "cell_type": "code",
   "execution_count": null,
   "metadata": {},
   "outputs": [],
   "source": []
  },
  {
   "cell_type": "code",
   "execution_count": null,
   "metadata": {},
   "outputs": [],
   "source": []
  }
 ],
 "metadata": {
  "kernelspec": {
   "name": "python3",
   "language": "python",
   "display_name": "Python 3"
  },
  "language_info": {
   "name": "python",
   "pygments_lexer": "ipython3"
  }
 },
 "nbformat": 4,
 "nbformat_minor": 2
}
