{
 "cells": [
  {
   "cell_type": "markdown",
   "metadata": {},
   "source": [
    "# 读取数据\n"
   ]
  },
  {
   "cell_type": "code",
   "execution_count": null,
   "metadata": {},
   "outputs": [],
   "source": [
    "import pandas as pd\n",
    "data=pd.read_excel(\"赛题1数据材料/赛题1数据集/产品.xlsx\",index_col=\"企业编号\")\n",
    "data.head(10)"
   ]
  },
  {
   "cell_type": "code",
   "execution_count": null,
   "metadata": {},
   "outputs": [],
   "source": [
    "fenzu=pd.get_dummies(data[\"产品类型\"],prefix=\"产品类型\").groupby('企业编号').sum().T.reindex(columns=list(range(1001, 4001))).fillna(0)\n",
    "#result_1=fenzu.sum().unstack().fillna(0).T\n",
    "#result_1 = result_1.reindex(columns=list(range(1001, 4001))).fillna(0)\n",
    "fenzu"
   ]
  },
  {
   "cell_type": "code",
   "execution_count": null,
   "metadata": {},
   "outputs": [],
   "source": [
    "result_1.to_pickle('产品.pickle')"
   ]
  },
  {
   "cell_type": "code",
   "execution_count": null,
   "metadata": {},
   "outputs": [],
   "source": []
  }
 ],
 "metadata": {
  "kernelspec": {
   "name": "python3",
   "language": "python",
   "display_name": "Python 3"
  },
  "language_info": {
   "name": "python",
   "pygments_lexer": "ipython3"
  }
 },
 "nbformat": 4,
 "nbformat_minor": 2
}
