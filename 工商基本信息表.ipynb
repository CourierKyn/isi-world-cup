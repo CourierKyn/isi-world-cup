{
 "cells": [
  {
   "cell_type": "code",
   "execution_count": null,
   "metadata": {},
   "outputs": [],
   "source": [
    "from IPython.display import display\n",
    "import pandas as pd\n",
    "import csv\n",
    "import random\n",
    "import re\n",
    "# import pyperclip\n",
    "import numpy as np\n",
    "import seaborn as sns\n",
    "import requests\n",
    "import matplotlib, matplotlib.pyplot as plt\n",
    "import pprint\n",
    "import os\n",
    "import dateutil\n",
    "import datetime"
   ]
  },
  {
   "cell_type": "code",
   "execution_count": null,
   "metadata": {},
   "outputs": [],
   "source": [
    "pd.options.display.max_rows = 10\n",
    "sns.set()\n",
    "matplotlib.rcParams['font.sans-serif'] = ['Arial Unicode MS', 'sans-serif']"
   ]
  },
  {
   "cell_type": "code",
   "execution_count": null,
   "metadata": {},
   "outputs": [],
   "source": [
    "def to_number(cell):\n",
    "    if not isinstance(cell, str):\n",
    "        return cell\n",
    "    _ = re.findall(r'\\d+', cell)\n",
    "    if not _:\n",
    "        return cell\n",
    "    return _[0]"
   ]
  },
  {
   "cell_type": "code",
   "execution_count": null,
   "metadata": {},
   "outputs": [],
   "source": [
    "def to_date(cell):\n",
    "    if not isinstance(cell, str):\n",
    "        return cell\n",
    "    return '-'.join(re.findall(r'\\d+', cell))"
   ]
  },
  {
   "cell_type": "code",
   "execution_count": null,
   "metadata": {},
   "outputs": [],
   "source": [
    "df = pd.read_excel('赛题1数据材料/赛题1数据集/工商基本信息表.xlsx', index_col='企业编号')\n",
    "df['经营状态'][df['经营状态'] != '迁出'] = '存续（在营、开业、在册）'\n",
    "df['行业小类（代码）'] = df['行业小类（代码）'].map(to_number)\n",
    "df['城市代码'] = df['城市代码'].map(lambda x: x % 100)\n",
    "df['经营期限自'] = df['经营期限自'].map(to_date)\n",
    "df['发照日期'] = df['发照日期'].map(to_date)\n",
    "df.columns=['$注册资本（万元）', '注册资本币种(正则)', '成立日期', '经营状态', '行业大类（代码）', '行业小类（代码）', '类型',\n",
    "       '省份代码', '城市代码', '地区代码', '是否上市', '经营期限自', '经营期限至', '登记机关区域代码', '发照日期',\n",
    "       '员工人数', '注销原因', '注销时间']\n",
    "df"
   ]
  },
  {
   "cell_type": "markdown",
   "metadata": {},
   "source": [
    "## 筛选数据"
   ]
  },
  {
   "cell_type": "code",
   "execution_count": null,
   "metadata": {},
   "outputs": [],
   "source": [
    "registered_capital_ten_thousand_yuan = df[['$注册资本（万元）']].groupby('企业编号').mean().T\n",
    "registered_capital_ten_thousand_yuan = registered_capital_ten_thousand_yuan.reindex(columns=list(range(1001, 4001)))\n",
    "registered_capital_ten_thousand_yuan"
   ]
  },
  {
   "cell_type": "code",
   "execution_count": null,
   "metadata": {},
   "outputs": [],
   "source": [
    "registered_capital_currency_regular = pd.get_dummies(df['注册资本币种(正则)'].replace('-', None), prefix='注册资本币种(正则)').groupby('企业编号').mean().T\n",
    "registered_capital_currency_regular = registered_capital_currency_regular.reindex(columns=list(range(1001, 4001))).fillna(0)\n",
    "registered_capital_currency_regular"
   ]
  },
  {
   "cell_type": "code",
   "execution_count": null,
   "metadata": {},
   "outputs": [],
   "source": [
    "def to_day(cell):\n",
    "    if not isinstance(cell, str):\n",
    "        return cell\n",
    "    return (dateutil.parser.parse(cell) - datetime.datetime(2019, 3, 5)).days"
   ]
  },
  {
   "cell_type": "code",
   "execution_count": null,
   "metadata": {},
   "outputs": [],
   "source": [
    "date_of_establishment = df[['成立日期']].applymap(to_day).groupby('企业编号').mean().T\n",
    "date_of_establishment = date_of_establishment.reindex(columns=list(range(1001, 4001)))\n",
    "date_of_establishment"
   ]
  },
  {
   "cell_type": "code",
   "execution_count": null,
   "metadata": {},
   "outputs": [],
   "source": [
    "business_status = pd.get_dummies(df['经营状态'], prefix='经营状态').groupby('企业编号').mean().T\n",
    "business_status = business_status.reindex(columns=list(range(1001, 4001))).fillna(0)\n",
    "business_status"
   ]
  },
  {
   "cell_type": "code",
   "execution_count": null,
   "metadata": {},
   "outputs": [],
   "source": [
    "industry_category_code = pd.get_dummies(df['行业大类（代码）'], prefix='行业大类（代码）').groupby('企业编号').mean().T\n",
    "industry_category_code = industry_category_code.reindex(columns=list(range(1001, 4001))).fillna(0)\n",
    "industry_category_code"
   ]
  },
  {
   "cell_type": "code",
   "execution_count": null,
   "metadata": {},
   "outputs": [],
   "source": [
    "industry_subclass_code = pd.get_dummies(df['行业小类（代码）'], prefix='行业小类（代码）').groupby('企业编号').mean().T\n",
    "industry_subclass_code = industry_subclass_code.reindex(columns=list(range(1001, 4001))).fillna(0)\n",
    "industry_subclass_code"
   ]
  },
  {
   "cell_type": "code",
   "execution_count": null,
   "metadata": {},
   "outputs": [],
   "source": [
    "types = pd.get_dummies(df['类型'], prefix='类型').groupby('企业编号').mean().T\n",
    "types = types.reindex(columns=list(range(1001, 4001))).fillna(0)\n",
    "types"
   ]
  },
  {
   "cell_type": "code",
   "execution_count": null,
   "metadata": {},
   "outputs": [],
   "source": [
    "provincial_code = pd.get_dummies(df['省份代码'], prefix='省份代码').groupby('企业编号').mean().T\n",
    "provincial_code = provincial_code.reindex(columns=list(range(1001, 4001))).fillna(0)\n",
    "provincial_code"
   ]
  },
  {
   "cell_type": "code",
   "execution_count": null,
   "metadata": {},
   "outputs": [],
   "source": [
    "city_code = pd.get_dummies(df['城市代码'], prefix='城市代码').groupby('企业编号').mean().T\n",
    "city_code = city_code.reindex(columns=list(range(1001, 4001))).fillna(0)\n",
    "city_code"
   ]
  },
  {
   "cell_type": "code",
   "execution_count": null,
   "metadata": {},
   "outputs": [],
   "source": [
    "whether_it_is_listed = pd.get_dummies(df['是否上市'], prefix='是否上市').groupby('企业编号').mean().T\n",
    "whether_it_is_listed = whether_it_is_listed.reindex(columns=list(range(1001, 4001))).fillna(0)\n",
    "whether_it_is_listed"
   ]
  },
  {
   "cell_type": "code",
   "execution_count": null,
   "metadata": {},
   "outputs": [],
   "source": [
    "operating_period_from = df[['经营期限自']].applymap(to_day).groupby('企业编号').mean().T\n",
    "operating_period_from = operating_period_from.reindex(columns=list(range(1001, 4001)))\n",
    "operating_period_from"
   ]
  },
  {
   "cell_type": "code",
   "execution_count": null,
   "metadata": {},
   "outputs": [],
   "source": [
    "date_of_issue = df[['发照日期']].applymap(to_day).groupby('企业编号').mean().T\n",
    "date_of_issue = date_of_issue.reindex(columns=list(range(1001, 4001)))\n",
    "date_of_issue"
   ]
  },
  {
   "cell_type": "code",
   "execution_count": null,
   "metadata": {},
   "outputs": [],
   "source": [
    "number_of_workers = df[['员工人数']].groupby('企业编号').mean().T\n",
    "number_of_workers = number_of_workers.reindex(columns=list(range(1001, 4001)))\n",
    "number_of_workers"
   ]
  },
  {
   "cell_type": "code",
   "execution_count": null,
   "metadata": {},
   "outputs": [],
   "source": [
    "reason_for_cancellation = pd.get_dummies(df['注销原因'], prefix='注销原因').groupby('企业编号').mean().T\n",
    "reason_for_cancellation = reason_for_cancellation.reindex(columns=list(range(1001, 4001))).fillna(0)\n",
    "reason_for_cancellation"
   ]
  },
  {
   "cell_type": "code",
   "execution_count": null,
   "metadata": {},
   "outputs": [],
   "source": [
    "pd.concat([registered_capital_ten_thousand_yuan, registered_capital_currency_regular, date_of_establishment, \n",
    "               business_status, industry_category_code, industry_category_code, types, provincial_code, city_code, \n",
    "               whether_it_is_listed, operating_period_from, date_of_issue, number_of_workers, \n",
    "               reason_for_cancellation]).to_pickle('工商基本信息表.pickle')"
   ]
  },
  {
   "cell_type": "code",
   "execution_count": null,
   "metadata": {},
   "outputs": [],
   "source": []
  }
 ],
 "metadata": {
  "kernelspec": {
   "name": "python3",
   "language": "python",
   "display_name": "Python 3"
  },
  "language_info": {
   "name": "python",
   "pygments_lexer": "ipython3"
  }
 },
 "nbformat": 4,
 "nbformat_minor": 2
}
