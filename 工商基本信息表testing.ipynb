{
 "cells": [
  {
   "cell_type": "code",
   "execution_count": null,
   "metadata": {},
   "outputs": [],
   "source": [
    "from IPython.display import display\n",
    "import pandas as pd\n",
    "import csv\n",
    "import random\n",
    "import re\n",
    "# import pyperclip\n",
    "import numpy as np\n",
    "import seaborn as sns\n",
    "import requests\n",
    "import matplotlib, matplotlib.pyplot as plt\n",
    "import pprint\n",
    "import os\n",
    "import dateutil\n",
    "import datetime"
   ]
  },
  {
   "cell_type": "code",
   "execution_count": null,
   "metadata": {},
   "outputs": [],
   "source": [
    "pd.options.display.max_rows = 10\n",
    "sns.set()\n",
    "matplotlib.rcParams['font.sans-serif'] = ['Arial Unicode MS', 'sans-serif']"
   ]
  },
  {
   "cell_type": "code",
   "execution_count": null,
   "metadata": {},
   "outputs": [],
   "source": [
    "def to_number(cell):\n",
    "    if not isinstance(cell, str):\n",
    "        return cell\n",
    "    _ = re.findall(r'\\d+', cell)\n",
    "    if not _:\n",
    "        return cell\n",
    "    return _[0]"
   ]
  },
  {
   "cell_type": "code",
   "execution_count": null,
   "metadata": {},
   "outputs": [],
   "source": [
    "def to_date(cell):\n",
    "    if not isinstance(cell, str):\n",
    "        return cell\n",
    "    return '-'.join(re.findall(r'\\d+', cell))"
   ]
  },
  {
   "cell_type": "code",
   "execution_count": null,
   "metadata": {},
   "outputs": [],
   "source": [
    "df = pd.read_excel('赛题1测试数据集\\工商基本信息表.xlsx', index_col='企业编号')\n",
    "df['经营状态'][df['经营状态'] != '迁出'] = '存续（在营、开业、在册）'\n",
    "df['行业小类（代码）'] = df['行业小类（代码）'].map(to_number)\n",
    "df['城市代码'] = df['城市代码'].map(lambda x: x % 100)\n",
    "df['经营期限自'] = df['经营期限自'].map(to_date)\n",
    "df['发照日期'] = df['发照日期'].map(to_date)\n",
    "df=df.drop(index=list(range(4526,4566)))\n",
    "\n",
    "df.columns=['$注册资本（万元）', '注册资本币种(正则)', '成立日期', '经营状态', '行业大类（代码）', '行业小类（代码）', '类型',\n",
    "       '省份代码', '城市代码', '地区代码', '是否上市', '经营期限自', '经营期限至', '登记机关区域代码', '发照日期',\n",
    "       '员工人数', '注销原因', '注销时间']\n",
    "df"
   ]
  },
  {
   "cell_type": "code",
   "execution_count": null,
   "metadata": {},
   "outputs": [],
   "source": [
    "registered_capital_ten_thousand_yuan = df[['$注册资本（万元）']].groupby('企业编号').mean().T\n",
    "registered_capital_ten_thousand_yuan = registered_capital_ten_thousand_yuan.reindex(columns=list(range(4001,4526)))\n",
    "registered_capital_ten_thousand_yuan"
   ]
  },
  {
   "cell_type": "code",
   "execution_count": null,
   "metadata": {},
   "outputs": [],
   "source": [
    "registered_capital_currency_regular = pd.get_dummies(df['注册资本币种(正则)'].replace('-', None), prefix='注册资本币种(正则)').groupby('企业编号').mean().T\n",
    "registered_capital_currency_regular = registered_capital_currency_regular.reindex(columns=list(range(4001,4526))).fillna(0)\n",
    "registered_capital_currency_regular=registered_capital_currency_regular.append(pd.DataFrame(data=0,index=['注册资本币种(正则)_美元'],columns=list(range(4001,4526))))\n",
    "registered_capital_currency_regular"
   ]
  },
  {
   "cell_type": "code",
   "execution_count": null,
   "metadata": {},
   "outputs": [],
   "source": [
    "def to_day(cell):\n",
    "    if not isinstance(cell, str):\n",
    "        return cell\n",
    "    return (dateutil.parser.parse(cell) - datetime.datetime(2019, 3, 5)).days"
   ]
  },
  {
   "cell_type": "code",
   "execution_count": null,
   "metadata": {},
   "outputs": [],
   "source": [
    "date_of_establishment = df[['成立日期']].applymap(to_day).groupby('企业编号').mean().T\n",
    "date_of_establishment = date_of_establishment.reindex(columns=list(range(4001,4526)))\n",
    "date_of_establishment"
   ]
  },
  {
   "cell_type": "code",
   "execution_count": null,
   "metadata": {},
   "outputs": [],
   "source": [
    "business_status = pd.get_dummies(df['经营状态'], prefix='经营状态').groupby('企业编号').mean().T\n",
    "business_status = business_status.reindex(columns=list(range(4001,4526))).fillna(0)\n",
    "business_status=business_status.append(pd.DataFrame(data=0,index=['经营状态_迁出'],columns=list(range(4001,4526))))\n",
    "business_status"
   ]
  },
  {
   "cell_type": "code",
   "execution_count": null,
   "metadata": {},
   "outputs": [],
   "source": [
    "industry_category_code = pd.get_dummies(df['行业大类（代码）'], prefix='行业大类（代码）').groupby('企业编号').mean().T\n",
    "industry_category_code = industry_category_code.reindex(columns=list(range(4001,4526))).fillna(0)\n",
    "industry_category_code.reindex(index=[\"行业大类（代码）_A\",\"行业大类（代码）_B\",\"行业大类（代码）_C\",\"行业大类（代码）_D\"\n",
    "                                     ,\"行业大类（代码）_E\",\"行业大类（代码）_F\",\"行业大类（代码）_G\",\"行业大类（代码）_H\"\n",
    "                                     ,\"行业大类（代码）_I\",\"行业大类（代码）_J\",\"行业大类（代码）_K\",\"行业大类（代码）_L\"\n",
    "                                     ,\"行业大类（代码）_M\",\"行业大类（代码）_N\",\"行业大类（代码）_O\",\"行业大类（代码）_P\",\n",
    "                                      \"行业大类（代码）_Q\",\"行业大类（代码）_R\"]).fillna(0)"
   ]
  },
  {
   "cell_type": "code",
   "execution_count": null,
   "metadata": {},
   "outputs": [],
   "source": [
    "industry_subclass_code = pd.get_dummies(df['行业小类（代码）'], prefix='行业小类（代码）').groupby('企业编号').mean().T\n",
    "industry_subclass_code = industry_subclass_code.reindex(columns=list(range(4001,4526))).fillna(0)\n",
    "industry_subclass_code=industry_subclass_code.reindex(index=['行业小类（代码）_1', '行业小类（代码）_10', '行业小类（代码）_11', '行业小类（代码）_13',\n",
    "       '行业小类（代码）_14', '行业小类（代码）_15', '行业小类（代码）_17', '行业小类（代码）_18',\n",
    "       '行业小类（代码）_19', '行业小类（代码）_2', '行业小类（代码）_20', '行业小类（代码）_21',\n",
    "       '行业小类（代码）_22', '行业小类（代码）_23', '行业小类（代码）_24', '行业小类（代码）_25',\n",
    "       '行业小类（代码）_26', '行业小类（代码）_27', '行业小类（代码）_28', '行业小类（代码）_29',\n",
    "       '行业小类（代码）_3', '行业小类（代码）_30', '行业小类（代码）_31', '行业小类（代码）_32',\n",
    "       '行业小类（代码）_33', '行业小类（代码）_34', '行业小类（代码）_35', '行业小类（代码）_36',\n",
    "       '行业小类（代码）_37', '行业小类（代码）_38', '行业小类（代码）_39', '行业小类（代码）_4',\n",
    "       '行业小类（代码）_40', '行业小类（代码）_41', '行业小类（代码）_43', '行业小类（代码）_44',\n",
    "       '行业小类（代码）_45', '行业小类（代码）_46', '行业小类（代码）_47', '行业小类（代码）_48',\n",
    "       '行业小类（代码）_49', '行业小类（代码）_50', '行业小类（代码）_51', '行业小类（代码）_52',\n",
    "       '行业小类（代码）_53', '行业小类（代码）_54', '行业小类（代码）_55', '行业小类（代码）_56',\n",
    "       '行业小类（代码）_58', '行业小类（代码）_59', '行业小类（代码）_6', '行业小类（代码）_61',\n",
    "       '行业小类（代码）_62', '行业小类（代码）_63', '行业小类（代码）_64', '行业小类（代码）_65',\n",
    "       '行业小类（代码）_66', '行业小类（代码）_67', '行业小类（代码）_68', '行业小类（代码）_69',\n",
    "       '行业小类（代码）_7', '行业小类（代码）_70', '行业小类（代码）_71', '行业小类（代码）_72',\n",
    "       '行业小类（代码）_73', '行业小类（代码）_74', '行业小类（代码）_75', '行业小类（代码）_77',\n",
    "       '行业小类（代码）_78', '行业小类（代码）_8', '行业小类（代码）_80', '行业小类（代码）_82',\n",
    "       '行业小类（代码）_83', '行业小类（代码）_84', '行业小类（代码）_85', '行业小类（代码）_86',\n",
    "       '行业小类（代码）_87', '行业小类（代码）_88', '行业小类（代码）_89', '行业小类（代码）_9']).fillna(0)\n",
    "industry_subclass_code"
   ]
  },
  {
   "cell_type": "code",
   "execution_count": null,
   "metadata": {},
   "outputs": [],
   "source": [
    "types = pd.get_dummies(df['类型'], prefix='类型').groupby('企业编号').mean().T\n",
    "types = types.reindex(columns=list(range(4001,4526))).fillna(0)\n",
    "types"
   ]
  },
  {
   "cell_type": "code",
   "execution_count": null,
   "metadata": {},
   "outputs": [],
   "source": [
    "provincial_code = pd.get_dummies(df['省份代码'], prefix='省份代码').groupby('企业编号').mean().T\n",
    "provincial_code = provincial_code.reindex(columns=list(range(4001,4526))).fillna(0).reindex(index=['省份代码_10', '省份代码_11', '省份代码_12', '省份代码_13', '省份代码_14', '省份代码_15',\n",
    "       '省份代码_21', '省份代码_22', '省份代码_23', '省份代码_31', '省份代码_32', '省份代码_33',\n",
    "       '省份代码_34', '省份代码_35', '省份代码_36', '省份代码_37', '省份代码_41', '省份代码_42',\n",
    "       '省份代码_43', '省份代码_44', '省份代码_45', '省份代码_46', '省份代码_50', '省份代码_51',\n",
    "       '省份代码_52', '省份代码_53', '省份代码_54', '省份代码_61', '省份代码_62', '省份代码_63',\n",
    "       '省份代码_64', '省份代码_65']).fillna(0)\n",
    "provincial_code"
   ]
  },
  {
   "cell_type": "code",
   "execution_count": null,
   "metadata": {},
   "outputs": [],
   "source": [
    "city_code = pd.get_dummies(df['城市代码'], prefix='城市代码').groupby('企业编号').mean().T\n",
    "city_code = city_code.reindex(columns=list(range(4001,4526))).fillna(0).reindex(index=['城市代码_0', '城市代码_1', '城市代码_2', '城市代码_3', '城市代码_4', '城市代码_5', '城市代码_6',\n",
    "       '城市代码_7', '城市代码_8', '城市代码_9', '城市代码_10', '城市代码_11', '城市代码_12',\n",
    "       '城市代码_13', '城市代码_14', '城市代码_15', '城市代码_16', '城市代码_17', '城市代码_18',\n",
    "       '城市代码_19', '城市代码_20', '城市代码_22', '城市代码_23', '城市代码_24', '城市代码_25',\n",
    "       '城市代码_27', '城市代码_29', '城市代码_31', '城市代码_32', '城市代码_34', '城市代码_42',\n",
    "       '城市代码_51', '城市代码_52', '城市代码_90']).fillna(0)\n",
    "city_code"
   ]
  },
  {
   "cell_type": "code",
   "execution_count": null,
   "metadata": {},
   "outputs": [],
   "source": [
    "whether_it_is_listed = pd.get_dummies(df['是否上市'], prefix='是否上市').groupby('企业编号').mean().T\n",
    "whether_it_is_listed = whether_it_is_listed.reindex(columns=list(range(4001,4526))).fillna(0)\n",
    "whether_it_is_listed"
   ]
  },
  {
   "cell_type": "code",
   "execution_count": null,
   "metadata": {},
   "outputs": [],
   "source": [
    "operating_period_from = df[['经营期限自']].applymap(to_day).groupby('企业编号').mean().T\n",
    "operating_period_from = operating_period_from.reindex(columns=list(range(4001,4526)))\n",
    "operating_period_from"
   ]
  },
  {
   "cell_type": "code",
   "execution_count": null,
   "metadata": {},
   "outputs": [],
   "source": [
    "date_of_issue = df[['发照日期']].applymap(to_day).groupby('企业编号').mean().T\n",
    "date_of_issue = date_of_issue.reindex(columns=list(range(4001,4526\n",
    "                            )))\n",
    "date_of_issue"
   ]
  },
  {
   "cell_type": "code",
   "execution_count": null,
   "metadata": {},
   "outputs": [],
   "source": [
    "number_of_workers = df[['员工人数']].groupby('企业编号').mean().T\n",
    "number_of_workers = number_of_workers.reindex(columns=list(range(4001,4526)))\n",
    "number_of_workers"
   ]
  },
  {
   "cell_type": "code",
   "execution_count": null,
   "metadata": {},
   "outputs": [],
   "source": [
    "reason_for_cancellation = pd.get_dummies(df['注销原因'], prefix='注销原因').groupby('企业编号').mean().T\n",
    "reason_for_cancellation = reason_for_cancellation.reindex(columns=list(range(4001,4526))).fillna(0).reindex(['注销原因_其他原因', '注销原因_决议解散', '注销原因_因公司合并或分立', '注销原因_宣告破产',\n",
    "       '注销原因_章程规定的解散事由出现']).fillna(0)\n",
    "reason_for_cancellation"
   ]
  },
  {
   "cell_type": "code",
   "execution_count": null,
   "metadata": {},
   "outputs": [],
   "source": [
    "pd.concat([registered_capital_ten_thousand_yuan, registered_capital_currency_regular, date_of_establishment, \n",
    "               business_status, industry_category_code, industry_category_code, types, provincial_code, city_code, \n",
    "               whether_it_is_listed, operating_period_from, date_of_issue, number_of_workers, \n",
    "               reason_for_cancellation]).to_pickle('工商基本信息表-testing.pickle')"
   ]
  },
  {
   "cell_type": "code",
   "execution_count": null,
   "metadata": {},
   "outputs": [],
   "source": []
  }
 ],
 "metadata": {
  "kernelspec": {
   "name": "python3",
   "language": "python",
   "display_name": "Python 3"
  },
  "language_info": {
   "name": "python",
   "pygments_lexer": "ipython3"
  }
 },
 "nbformat": 4,
 "nbformat_minor": 2
}
