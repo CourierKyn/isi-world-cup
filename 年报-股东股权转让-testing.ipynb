{
 "cells": [
  {
   "cell_type": "code",
   "execution_count": null,
   "metadata": {},
   "outputs": [],
   "source": [
    "from IPython.display import display\n",
    "import pandas as pd\n",
    "import csv\n",
    "import random\n",
    "import re\n",
    "# import pyperclip\n",
    "import numpy as np\n",
    "import seaborn as sns\n",
    "import requests\n",
    "import matplotlib, matplotlib.pyplot as plt\n",
    "import pprint\n",
    "import os\n",
    "import dateutil\n",
    "import datetime\n",
    "\n",
    "data=pd.read_excel(\"赛题1测试数据集\\年报-股东股权转让.xlsx\")\n",
    "data"
   ]
  },
  {
   "cell_type": "code",
   "execution_count": null,
   "metadata": {},
   "outputs": [],
   "source": [
    "def change(cell):\n",
    "    cell=float(cell)\n",
    "    return cell\n",
    "\n",
    "data[\"年报年份\"]=data[[\"年报年份\"]].applymap(change)\n",
    "data"
   ]
  },
  {
   "cell_type": "code",
   "execution_count": null,
   "metadata": {},
   "outputs": [],
   "source": [
    "def limit(cell):\n",
    "    if cell < 0.001:\n",
    "        return 0\n",
    "    return cell"
   ]
  },
  {
   "cell_type": "code",
   "execution_count": null,
   "metadata": {},
   "outputs": [],
   "source": [
    "df=data.dropna().reset_index().drop(columns=\"index\")\n",
    "df"
   ]
  },
  {
   "cell_type": "code",
   "execution_count": null,
   "metadata": {},
   "outputs": [],
   "source": [
    "for i in range(len(df)):\n",
    "    if ( type(df.iloc[i,1])!=np.float):\n",
    "        if (df.iloc[i,1][-1]==\"%\"or df.iloc[i,2][-1]==\"%\"):\n",
    "            df.iloc[i,1]=float(df.iloc[i,1][:-1])\n",
    "            df.iloc[i,2]=float(df.iloc[i,2][:-1])\n",
    "        else:\n",
    "            df.iloc[i,1]=float(df.iloc[i,1])\n",
    "            df.iloc[i,2]=float(df.iloc[i,2])\n",
    "df\n"
   ]
  },
  {
   "cell_type": "code",
   "execution_count": null,
   "metadata": {},
   "outputs": [],
   "source": [
    "df[\"变化比例\"]=df[\"变更后股权比例\"]-df[\"变更前股权比例\"]\n",
    "df"
   ]
  },
  {
   "cell_type": "code",
   "execution_count": null,
   "metadata": {},
   "outputs": [],
   "source": [
    "result_15=df.drop(columns=[\"股权变更日期\",\"变更前股权比例\",\"变更后股权比例\"]).groupby(['企业编号',\"年报年份\"]).sum().unstack().T\n",
    "result_15=result_15.applymap(limit).reindex(columns=list(range(4001,4526)))\n",
    "result_15"
   ]
  },
  {
   "cell_type": "code",
   "execution_count": null,
   "metadata": {},
   "outputs": [],
   "source": [
    "df=df.set_index(\"企业编号\")\n",
    "def to_day(cell):\n",
    "    if not isinstance(cell, str):\n",
    "        return cell\n",
    "    return (dateutil.parser.parse(cell) - datetime.datetime(2019, 3, 5)).days\n",
    "dd = df[['股权变更日期']].applymap(to_day).groupby('企业编号').mean().T\n",
    "dd = dd.reindex(columns=list(range(4001,4526)))\n",
    "dd"
   ]
  },
  {
   "cell_type": "code",
   "execution_count": null,
   "metadata": {},
   "outputs": [],
   "source": [
    "result_15.append(dd)"
   ]
  },
  {
   "cell_type": "code",
   "execution_count": null,
   "metadata": {},
   "outputs": [],
   "source": [
    "result_15.append(dd).to_pickle('年报-股东股权转让-testing.pickle')"
   ]
  },
  {
   "cell_type": "code",
   "execution_count": null,
   "metadata": {},
   "outputs": [],
   "source": []
  }
 ],
 "metadata": {
  "kernelspec": {
   "name": "python3",
   "language": "python",
   "display_name": "Python 3"
  },
  "language_info": {
   "name": "python",
   "pygments_lexer": "ipython3"
  }
 },
 "nbformat": 4,
 "nbformat_minor": 2
}
