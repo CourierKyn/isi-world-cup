{
 "cells": [
  {
   "cell_type": "code",
   "execution_count": null,
   "metadata": {},
   "outputs": [],
   "source": [
    "import pandas as pd\n",
    "import re\n",
    "import numpy as np\n",
    "data=pd.read_excel(\"赛题1测试数据集\\购地-市场交易-土地抵押.xlsx\" )\n",
    "data"
   ]
  },
  {
   "cell_type": "code",
   "execution_count": null,
   "metadata": {},
   "outputs": [],
   "source": [
    "df=data.iloc[:,[0,3,6,7,8]]\n",
    "df"
   ]
  },
  {
   "cell_type": "code",
   "execution_count": null,
   "metadata": {},
   "outputs": [],
   "source": [
    "df.set_index(\"土地用途\")"
   ]
  },
  {
   "cell_type": "code",
   "execution_count": null,
   "metadata": {},
   "outputs": [],
   "source": [
    "df1=df.drop(index=df[df['土地面积']>20].index)#删除土地面积过大的行\n",
    "df1"
   ]
  },
  {
   "cell_type": "code",
   "execution_count": null,
   "metadata": {},
   "outputs": [],
   "source": [
    "df2=df1.set_index(\"土地用途\").loc[[\"工业用地\",\"住宅用地\",\"商服用地\",\"其他普通商品住房用地\",\"其他商服用地\"\n",
    "                         ,\"工矿仓储用地\",\"批发零售用地\",\"其他土地\",\"公共设施用地\",\"商务金融用地\",\"中低价位、中小套型普通商品住房用地\"\n",
    "                        ,\"公路用地\", \"仓储用地\",\"其他住房用地\",\"住宿餐饮用地\",\"经济适用住房用地\",\"采矿用地\",\"管道运输用地\"\n",
    "                        ,\"管道运输用地\",\"高档住宅用地\", \"科教用地\",\"空闲地\",\"港口码头用地\",\n",
    "                               \"机关团体用地\"],:].reset_index().set_index(\"企业编号\").drop(columns='土地面积')\n",
    "df2\n",
    "#保留数量多的的土地用途"
   ]
  },
  {
   "cell_type": "code",
   "execution_count": null,
   "metadata": {},
   "outputs": [],
   "source": [
    "result=df2.groupby([\"企业编号\",'土地用途']).sum().unstack().T.reindex(columns=list(range(4001,4526)))\n",
    "result"
   ]
  },
  {
   "cell_type": "code",
   "execution_count": null,
   "metadata": {},
   "outputs": [],
   "source": []
  }
 ],
 "metadata": {
  "kernelspec": {
   "name": "python3",
   "language": "python",
   "display_name": "Python 3"
  },
  "language_info": {
   "name": "python",
   "pygments_lexer": "ipython3"
  }
 },
 "nbformat": 4,
 "nbformat_minor": 2
}
