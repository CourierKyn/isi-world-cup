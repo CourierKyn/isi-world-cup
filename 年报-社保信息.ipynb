{
 "cells": [
  {
   "cell_type": "code",
   "execution_count": null,
   "metadata": {},
   "outputs": [],
   "source": [
    "from IPython.display import display\n",
    "import pandas as pd\n",
    "import csv\n",
    "import random\n",
    "import re\n",
    "# import pyperclip\n",
    "import numpy as np\n",
    "import seaborn as sns\n",
    "import requests\n",
    "import matplotlib, matplotlib.pyplot as plt\n",
    "import pprint\n",
    "import os\n",
    "import dateutil\n",
    "import datetime\n",
    "\n",
    "data=pd.read_excel(\"赛题1数据材料/赛题1数据集/年报-社保信息.xlsx\").drop_duplicates(keep='first').replace(\n",
    "    \"企业选择不公示\",np.nan).replace(\"选择不公示\",np.nan)\n",
    "                                                                 \n",
    "data"
   ]
  },
  {
   "cell_type": "code",
   "execution_count": null,
   "metadata": {},
   "outputs": [],
   "source": [
    "data=data.set_index('年报年份').loc[[2016.0,2017.0],:].reset_index()\n",
    "data"
   ]
  },
  {
   "cell_type": "code",
   "execution_count": null,
   "metadata": {},
   "outputs": [],
   "source": [
    "def get_number(cell):\n",
    "    if not isinstance(cell, str):\n",
    "        return cell\n",
    "    _ = re.findall(r'[\\d.]+',cell)\n",
    "    if not _:\n",
    "        return None\n",
    "    return float(_[0])\n",
    "df=data.applymap(get_number).set_index([\"企业编号\",\"年报年份\"])\n",
    "df"
   ]
  },
  {
   "cell_type": "code",
   "execution_count": null,
   "metadata": {},
   "outputs": [],
   "source": [
    "result=df.groupby([\"企业编号\",\"年报年份\"]).mean().unstack().T\n",
    "result"
   ]
  },
  {
   "cell_type": "code",
   "execution_count": null,
   "metadata": {},
   "outputs": [],
   "source": [
    "result.to_pickle('年报-社保信息.pickle')"
   ]
  },
  {
   "cell_type": "code",
   "execution_count": null,
   "metadata": {},
   "outputs": [],
   "source": []
  }
 ],
 "metadata": {
  "kernelspec": {
   "name": "python3",
   "language": "python",
   "display_name": "Python 3"
  },
  "language_info": {
   "name": "python",
   "pygments_lexer": "ipython3"
  }
 },
 "nbformat": 4,
 "nbformat_minor": 2
}
