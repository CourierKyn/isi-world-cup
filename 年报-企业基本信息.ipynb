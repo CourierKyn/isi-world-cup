{
 "cells": [
  {
   "cell_type": "code",
   "execution_count": null,
   "metadata": {},
   "outputs": [],
   "source": [
    "from IPython.display import display\n",
    "import pandas as pd\n",
    "import csv\n",
    "import random\n",
    "import re\n",
    "# import pyperclip\n",
    "import numpy as np\n",
    "import seaborn as sns\n",
    "import requests\n",
    "import matplotlib, matplotlib.pyplot as plt\n",
    "import pprint\n",
    "import os\n",
    "import dateutil\n",
    "import datetime\n",
    "\n",
    "data=pd.read_excel(\"赛题1数据材料\\赛题1数据集\\年报-企业基本信息.xlsx\",index_col=\"企业编号\")\n",
    "data"
   ]
  },
  {
   "cell_type": "code",
   "execution_count": null,
   "metadata": {},
   "outputs": [],
   "source": [
    "data[\"企业经营状态\"].value_counts()"
   ]
  },
  {
   "cell_type": "code",
   "execution_count": null,
   "metadata": {},
   "outputs": [],
   "source": [
    "def limit(cell):\n",
    "    if cell > 1:\n",
    "        return 1\n",
    "    return cell"
   ]
  },
  {
   "cell_type": "code",
   "execution_count": null,
   "metadata": {},
   "outputs": [],
   "source": [
    "data=data.reset_index()\n",
    "data=data.set_index(['企业编号','年报年份'])"
   ]
  },
  {
   "cell_type": "code",
   "execution_count": null,
   "metadata": {},
   "outputs": [],
   "source": [
    "dummy_1=pd.get_dummies(data[\"企业经营状态\"],prefix='企业经营状态')\n",
    "dummy_1=dummy_1.groupby([\"企业编号\",'年报年份']).mean()\n",
    "dummy_1[\"企业经营状态_开业\"]=dummy_1[\"企业经营状态_开业\"]+dummy_1[\"企业经营状态_开业/正常经营\"]+dummy_1[\"企业经营状态_正常开业\"]\n",
    "dummy_1=dummy_1.drop(columns=[\"企业经营状态_开业/正常经营\",\"企业经营状态_正常开业\"]).unstack().T\n",
    "dummy_1=dummy_1.applymap(limit).reindex(columns=list(range(1001, 4001))).fillna(0)\n",
    "dummy_1"
   ]
  },
  {
   "cell_type": "code",
   "execution_count": null,
   "metadata": {},
   "outputs": [],
   "source": [
    "#dummy_2=pd.get_dummies(data[\"是否有网站或网点\"],prefix='是否有网站或网点')\n",
    "#dummy_2=dummy_2.groupby([\"企业编号\"]).mean()\n",
    "#dummy_2[\"是否有网站或网点_否\"]=dummy_2[\"是否有网站或网点_否\"]+dummy_2[\"是否有网站或网点_无\"]\n",
    "#dummy_2[\"是否有网站或网点_是\"]=dummy_2[\"是否有网站或网点_是\"]+dummy_2[\"是否有网站或网点_有\"]\n",
    "#dummy_2=dummy_2.drop(columns=[\"是否有网站或网点_无\",\"是否有网站或网点_有\"]).T\n",
    "#dummy_2=dummy_2.applymap(limit).reindex(columns=list(range(1001, 4001))).fillna(0)\n",
    "#dummy_2\n",
    "\n",
    "dummy_2=pd.get_dummies(data[\"是否有网站或网点\"],prefix='是否有网站或网点')\n",
    "dummy_2=dummy_2.groupby([\"企业编号\",'年报年份']).mean()\n",
    "dummy_2[\"是否有网站或网点_否\"]=dummy_2[\"是否有网站或网点_否\"]+dummy_2[\"是否有网站或网点_无\"]\n",
    "dummy_2[\"是否有网站或网点_是\"]=dummy_2[\"是否有网站或网点_是\"]+dummy_2[\"是否有网站或网点_有\"]\n",
    "dummy_2=dummy_2.drop(columns=[\"是否有网站或网点_无\",\"是否有网站或网点_有\"]).unstack().T\n",
    "dummy_2=dummy_2.applymap(limit).reindex(columns=list(range(1001, 4001))).fillna(0)\n",
    "dummy_2"
   ]
  },
  {
   "cell_type": "code",
   "execution_count": null,
   "metadata": {},
   "outputs": [],
   "source": [
    "\n",
    "\n",
    "dummy_3=pd.get_dummies(data[\"企业是否有投资信息或购买其他公司股权\"],prefix='企业是否有投资信息或购买其他公司股权')\n",
    "dummy_3=dummy_3.groupby([\"企业编号\",'年报年份']).mean()\n",
    "dummy_3[\"企业是否有投资信息或购买其他公司股权_否\"]=dummy_3[\"企业是否有投资信息或购买其他公司股权_否\"]+dummy_3[\"企业是否有投资信息或购买其他公司股权_无\"]\n",
    "dummy_3[\"企业是否有投资信息或购买其他公司股权_是\"]=dummy_3[\"企业是否有投资信息或购买其他公司股权_是\"]+dummy_3[\"企业是否有投资信息或购买其他公司股权_有\"]\n",
    "dummy_3=dummy_3.drop(columns=[\"企业是否有投资信息或购买其他公司股权_无\",\"企业是否有投资信息或购买其他公司股权_有\"]).unstack().T\n",
    "dummy_3=dummy_3.applymap(limit).reindex(columns=list(range(1001, 4001))).fillna(0)\n",
    "dummy_3"
   ]
  },
  {
   "cell_type": "code",
   "execution_count": null,
   "metadata": {},
   "outputs": [],
   "source": [
    "dummy_4=pd.get_dummies(data[\"有限责任公司本年度是否发生股东股权转\"],prefix='有限责任公司本年度是否发生股东股权转')\n",
    "dummy_4=dummy_4.groupby([\"企业编号\",'年报年份']).mean()\n",
    "dummy_4[\"有限责任公司本年度是否发生股东股权转_否\"]=dummy_4[\"有限责任公司本年度是否发生股东股权转_否\"]+dummy_4[\"有限责任公司本年度是否发生股东股权转_无\"]\n",
    "dummy_4[\"有限责任公司本年度是否发生股东股权转_是\"]=dummy_4[\"有限责任公司本年度是否发生股东股权转_是\"]+dummy_4[\"有限责任公司本年度是否发生股东股权转_有\"]\n",
    "dummy_4=dummy_4.drop(columns=[\"有限责任公司本年度是否发生股东股权转_无\",\"有限责任公司本年度是否发生股东股权转_有\"]).unstack().T\n",
    "dummy_4=dummy_4.applymap(limit).reindex(columns=list(range(1001, 4001))).fillna(0)\n",
    "dummy_4"
   ]
  },
  {
   "cell_type": "code",
   "execution_count": null,
   "metadata": {},
   "outputs": [],
   "source": [
    "\n",
    "dummy_5=pd.get_dummies(data[\"是否提供对外担保\"],prefix='是否提供对外担保')\n",
    "dummy_5=dummy_5.groupby([\"企业编号\",\"年报年份\"]).mean().unstack().T\n",
    "dummy_5=dummy_5.applymap(limit).reindex(columns=list(range(1001, 4001))).fillna(0)\n",
    "dummy_5\n"
   ]
  },
  {
   "cell_type": "code",
   "execution_count": null,
   "metadata": {},
   "outputs": [],
   "source": [
    "def to_day(cell):\n",
    "    if not isinstance(cell, str):\n",
    "        return cell\n",
    "    return (dateutil.parser.parse(cell) - datetime.datetime(2019, 3, 5)).days\n",
    "dd = data[['发布日期']].applymap(to_day).groupby('企业编号').mean().T\n",
    "dd = dd.reindex(columns=list(range(1001, 4001)))\n",
    "dd"
   ]
  },
  {
   "cell_type": "code",
   "execution_count": null,
   "metadata": {},
   "outputs": [],
   "source": [
    "dn=data.replace(\"企业选择不公示\",np.nan)\n",
    "dn"
   ]
  },
  {
   "cell_type": "code",
   "execution_count": null,
   "metadata": {},
   "outputs": [],
   "source": [
    "def get_number(cell):\n",
    "    if not isinstance(cell, str):\n",
    "        return cell\n",
    "    _ = re.findall(r'[\\d.]+',cell)\n",
    "    if not _:\n",
    "        return None\n",
    "    return float(_[0])"
   ]
  },
  {
   "cell_type": "code",
   "execution_count": null,
   "metadata": {},
   "outputs": [],
   "source": [
    "dn=dn[[\"从业人数\"]].applymap(get_number).groupby([\"企业编号\",\"年报年份\"]).mean().unstack().T\n",
    "dn=dn.reindex(columns=list(range(1001, 4001)))\n",
    "dn"
   ]
  },
  {
   "cell_type": "code",
   "execution_count": null,
   "metadata": {},
   "outputs": [],
   "source": [
    "result_16=dummy_1.append([dummy_2,dummy_3,dummy_4,dummy_5,dd,dn])\n",
    "result_16"
   ]
  },
  {
   "cell_type": "code",
   "execution_count": null,
   "metadata": {},
   "outputs": [],
   "source": [
    "result_16.to_pickle('年报-企业基本信息.pickle')"
   ]
  },
  {
   "cell_type": "code",
   "execution_count": null,
   "metadata": {},
   "outputs": [],
   "source": []
  }
 ],
 "metadata": {
  "kernelspec": {
   "name": "python3",
   "language": "python",
   "display_name": "Python 3"
  },
  "language_info": {
   "name": "python",
   "pygments_lexer": "ipython3"
  }
 },
 "nbformat": 4,
 "nbformat_minor": 2
}
