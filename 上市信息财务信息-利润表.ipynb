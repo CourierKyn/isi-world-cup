{
 "cells": [
  {
   "cell_type": "code",
   "execution_count": null,
   "metadata": {},
   "outputs": [],
   "source": [
    "import pandas as pd\n",
    "import numpy as np\n",
    "import re"
   ]
  },
  {
   "cell_type": "code",
   "execution_count": null,
   "metadata": {},
   "outputs": [],
   "source": [
    "data=pd.read_excel('赛题1数据材料\\赛题1数据集\\上市信息财务信息-利润表.xlsx')"
   ]
  },
  {
   "cell_type": "code",
   "execution_count": null,
   "metadata": {},
   "outputs": [],
   "source": [
    "data"
   ]
  },
  {
   "cell_type": "code",
   "execution_count": null,
   "metadata": {},
   "outputs": [],
   "source": [
    "#将单位全部统一为以元为单位\n",
    "def convert(cell):\n",
    "    pattern1=(r'(-?\\d+\\.?\\d+)亿')\n",
    "    pattern2=(r'(-?\\d+\\.?\\d+)万亿')\n",
    "    pattern3=(r'(-?\\d+\\.?\\d+)万')\n",
    "    pattern4=(r'(-?\\d+\\.?\\d+)')\n",
    "    if re.findall(pattern1,cell)!=[]:\n",
    "        cell=float(re.findall(pattern1, cell)[0])/10000\n",
    "    elif re.findall(pattern2,cell)!=[]:\n",
    "        cell=float(re.findall(pattern2, cell)[0])\n",
    "    elif re.findall(pattern3,cell)!=[]:\n",
    "        cell=float(re.findall(pattern3, cell)[0])/10000000\n",
    "    elif re.findall(pattern4,cell)!=[]:\n",
    "        cell=float(re.findall(pattern4, cell)[0])/100000000000\n",
    "    elif cell=='nan'or cell=='--':\n",
    "        cell=np.nan\n",
    "    else: cell=float(cell)\n",
    "    return cell"
   ]
  },
  {
   "cell_type": "code",
   "execution_count": null,
   "metadata": {},
   "outputs": [],
   "source": [
    "data.iloc[:,3:]=data.iloc[:,3:].applymap(str).applymap(convert)"
   ]
  },
  {
   "cell_type": "code",
   "execution_count": null,
   "metadata": {},
   "outputs": [],
   "source": [
    "data"
   ]
  },
  {
   "cell_type": "code",
   "execution_count": null,
   "metadata": {},
   "outputs": [],
   "source": [
    "#查看出现较多的时间\n",
    "data['日期'].value_counts()"
   ]
  },
  {
   "cell_type": "code",
   "execution_count": null,
   "metadata": {},
   "outputs": [],
   "source": [
    "#补全时间，规整时间的格式\n",
    "pattern='\\d\\d\\d\\d-\\d\\d-\\d\\d'\n",
    "for i in range(len(data)):\n",
    "    if re.findall(pattern,data.iloc[i,2])==[]:\n",
    "        data.iloc[i,2]='20'+data.iloc[i,2]"
   ]
  },
  {
   "cell_type": "code",
   "execution_count": null,
   "metadata": {},
   "outputs": [],
   "source": [
    "#去除企业编号与日期值同时相同的行，保留第一次出现的行\n",
    "data.drop_duplicates(subset=['企业编号','日期'],keep='first',inplace=True)"
   ]
  },
  {
   "cell_type": "code",
   "execution_count": null,
   "metadata": {},
   "outputs": [],
   "source": [
    "#再次查看出现较多的时间\n",
    "data['日期'].value_counts()"
   ]
  },
  {
   "cell_type": "code",
   "execution_count": null,
   "metadata": {},
   "outputs": [],
   "source": [
    "#将数量较少的日期全部丢弃\n",
    "timelist=list(['2017-09-30','2017-12-31','2018-06-30','2018-09-30','2017-06-30','2018-03-31'])\n",
    "data=data[data['日期'].isin(timelist)]\n",
    "data"
   ]
  },
  {
   "cell_type": "code",
   "execution_count": null,
   "metadata": {},
   "outputs": [],
   "source": [
    "data.sort_values(by=['企业编号','日期'],inplace=True)"
   ]
  },
  {
   "cell_type": "code",
   "execution_count": null,
   "metadata": {},
   "outputs": [],
   "source": [
    "data"
   ]
  },
  {
   "cell_type": "code",
   "execution_count": null,
   "metadata": {},
   "outputs": [],
   "source": [
    "#查看排序结果是否达到目标效果\n",
    "data.columns=pd.Index(['企业编号', '标题', '日期', '$营业收入(元)', '$营业成本(元)', '$销售费用(元)', '$财务费用(元)',\n",
    "       '$管理费用(元)', '$资产减值损失(元)', '$投资收益(元)', '$营业利润(元)', '$利润总额(元)', '$所得税(元)',\n",
    "       '$归属母公司所有者净利润(元)'])"
   ]
  },
  {
   "cell_type": "code",
   "execution_count": null,
   "metadata": {},
   "outputs": [],
   "source": [
    "data"
   ]
  },
  {
   "cell_type": "code",
   "execution_count": null,
   "metadata": {},
   "outputs": [],
   "source": [
    "#'营业收入(元)',营业成本(元),\n",
    "# data['营业成本(元)'].describe()\n",
    "# data['营业成本(元)'].sort_values(ascending=False)"
   ]
  },
  {
   "cell_type": "code",
   "execution_count": null,
   "metadata": {},
   "outputs": [],
   "source": [
    "data=data.set_index(['企业编号','日期'])\n",
    "data=data.unstack().reset_index().set_index('企业编号').T.drop('标题')\n",
    "data"
   ]
  },
  {
   "cell_type": "code",
   "execution_count": null,
   "metadata": {},
   "outputs": [],
   "source": [
    "data=data.reindex(columns=list(range(1001,4001)))\n",
    "data.to_pickle('上市信息财务信息-利润表.pickle')\n",
    "data.index"
   ]
  }
 ],
 "metadata": {
  "kernelspec": {
   "name": "python3",
   "language": "python",
   "display_name": "Python 3"
  },
  "language_info": {
   "name": "python",
   "pygments_lexer": "ipython3"
  }
 },
 "nbformat": 4,
 "nbformat_minor": 2
}
