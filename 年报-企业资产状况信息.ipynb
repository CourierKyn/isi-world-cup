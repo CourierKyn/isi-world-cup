{
 "cells": [
  {
   "cell_type": "code",
   "execution_count": null,
   "metadata": {},
   "outputs": [],
   "source": [
    "import pandas as pd\n",
    "import numpy as np\n",
    "import re\n",
    "import datetime\n",
    "import dateutil\n",
    "data=pd.read_excel(\"赛题1数据材料/赛题1数据集/年报-企业资产状况信息.xlsx\",index_col=0)\n",
    "data"
   ]
  },
  {
   "cell_type": "code",
   "execution_count": null,
   "metadata": {},
   "outputs": [],
   "source": [
    "data.drop_duplicates(keep='first',inplace=True)"
   ]
  },
  {
   "cell_type": "code",
   "execution_count": null,
   "metadata": {},
   "outputs": [],
   "source": [
    "data.replace('企业选择不公示',np.nan,inplace=True)\n",
    "data"
   ]
  },
  {
   "cell_type": "code",
   "execution_count": null,
   "metadata": {},
   "outputs": [],
   "source": [
    "#将数字后的单位全部去除,只匹配数字，其余置为nan。\n",
    "def convert(cell):\n",
    "    pattern=r'[-\\d.]'\n",
    "    if cell == '--' or len(re.findall(pattern,cell)) == 0:\n",
    "        return np.nan\n",
    "    return float(''.join(re.findall(pattern, cell)))"
   ]
  },
  {
   "cell_type": "code",
   "execution_count": null,
   "metadata": {},
   "outputs": [],
   "source": [
    "data.columns"
   ]
  },
  {
   "cell_type": "code",
   "execution_count": null,
   "metadata": {},
   "outputs": [],
   "source": [
    "data.iloc[:,0]=data.iloc[:,0].apply(str).map(convert)\n",
    "data.iloc[:,1]=data.iloc[:,1].apply(str).map(convert)\n",
    "data.iloc[:,2]=data.iloc[:,2].apply(str).map(convert)\n",
    "data.iloc[:,3]=data.iloc[:,3].apply(str).map(convert)\n",
    "data.iloc[:,4]=data.iloc[:,4].apply(str).map(convert)\n",
    "data.iloc[:,6]=data.iloc[:,6].apply(str).map(convert)\n",
    "data.iloc[:,7]=data.iloc[:,7].apply(str).map(convert)\n",
    "data.iloc[:,8]=data.iloc[:,8].apply(str).map(convert)"
   ]
  },
  {
   "cell_type": "code",
   "execution_count": null,
   "metadata": {},
   "outputs": [],
   "source": [
    "data['年报年份'].value_counts()"
   ]
  },
  {
   "cell_type": "code",
   "execution_count": null,
   "metadata": {},
   "outputs": [],
   "source": [
    "timelist=['2016.0','2017.0','2014.0','2013.0','2015.0']\n",
    "data=data[data['年报年份'].isin(timelist)]\n",
    "data"
   ]
  },
  {
   "cell_type": "code",
   "execution_count": null,
   "metadata": {},
   "outputs": [],
   "source": [
    "data=data.reset_index().sort_values(by=['企业编号','年报年份'])"
   ]
  },
  {
   "cell_type": "code",
   "execution_count": null,
   "metadata": {},
   "outputs": [],
   "source": [
    "data=data.set_index(['企业编号','年报年份'])"
   ]
  },
  {
   "cell_type": "code",
   "execution_count": null,
   "metadata": {},
   "outputs": [],
   "source": [
    "data.columns"
   ]
  },
  {
   "cell_type": "code",
   "execution_count": null,
   "metadata": {},
   "outputs": [],
   "source": [
    "data.columns=pd.Index(['$资产总额', '$所有者权益合计', '$营业总收入', '$利润总额', '$主营业务收入', '$主营业务', '$净利润', '$纳税总额',\n",
    "       '$负债总额', '$实际员工数量'])"
   ]
  },
  {
   "cell_type": "code",
   "execution_count": null,
   "metadata": {},
   "outputs": [],
   "source": [
    "data=data.unstack().reset_index().set_index('企业编号').T.drop(['$主营业务','$实际员工数量']).reindex(columns=list(range(1001,4001)))\n",
    "data"
   ]
  },
  {
   "cell_type": "code",
   "execution_count": null,
   "metadata": {},
   "outputs": [],
   "source": [
    "data.to_pickle('年报-企业资产状况信息.pickle')"
   ]
  },
  {
   "cell_type": "code",
   "execution_count": null,
   "metadata": {},
   "outputs": [],
   "source": [
    "data.index"
   ]
  }
 ],
 "metadata": {
  "kernelspec": {
   "name": "python3",
   "language": "python",
   "display_name": "Python 3"
  },
  "language_info": {
   "name": "python",
   "pygments_lexer": "ipython3"
  }
 },
 "nbformat": 4,
 "nbformat_minor": 2
}
