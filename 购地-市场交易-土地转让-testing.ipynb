{
 "cells": [
  {
   "cell_type": "code",
   "execution_count": null,
   "metadata": {},
   "outputs": [],
   "source": [
    "from IPython.display import display\n",
    "import pandas as pd\n",
    "import csv\n",
    "import random\n",
    "import re\n",
    "# import pyperclip\n",
    "import numpy as np\n",
    "import seaborn as sns\n",
    "import requests\n",
    "import matplotlib, matplotlib.pyplot as plt\n",
    "import pprint\n",
    "import os\n",
    "import dateutil\n",
    "import datetime"
   ]
  },
  {
   "cell_type": "code",
   "execution_count": null,
   "metadata": {},
   "outputs": [],
   "source": [
    "pd.options.display.max_rows = 10\n",
    "sns.set()\n",
    "matplotlib.rcParams['font.sans-serif'] = ['Arial Unicode MS', 'sans-serif']"
   ]
  },
  {
   "cell_type": "code",
   "execution_count": null,
   "metadata": {},
   "outputs": [],
   "source": [
    "%matplotlib notebook"
   ]
  },
  {
   "cell_type": "code",
   "execution_count": null,
   "metadata": {},
   "outputs": [],
   "source": [
    "df = pd.read_excel(\"赛题1测试数据集/购地-市场交易-土地转让.xlsx\", index_col=\"企业编号\").drop_duplicates()\n",
    "df"
   ]
  },
  {
   "cell_type": "code",
   "execution_count": null,
   "metadata": {},
   "outputs": [],
   "source": [
    "def to_land_level(cell):\n",
    "    if not isinstance(cell, str):\n",
    "        return cell\n",
    "    if '一级' in cell and '十一级' not in cell:\n",
    "        return '一级'\n",
    "    if '8' in cell:\n",
    "        return '八级'\n",
    "    if '1' in cell:\n",
    "        return '一级'\n",
    "    if '4' in cell:\n",
    "        return '四级'\n",
    "    if '2' in cell:\n",
    "        return '二级'\n",
    "    if '5' in cell:\n",
    "        return '五级'\n",
    "    return cell\n",
    "    \n",
    "    \n",
    "land_level = pd.get_dummies(df['土地级别'].map(to_land_level), prefix='土地级别').groupby('企业编号').sum().T\n",
    "land_level = land_level.reindex(columns=list(range(4001,4526))).fillna(0).reindex(['土地级别_一级', '土地级别_七级', '土地级别_三级', '土地级别_九级', '土地级别_二级', '土地级别_五级',\n",
    "       '土地级别_八级', '土地级别_六级', '土地级别_十一级', '土地级别_十三等级', '土地级别_十二级', '土地级别_十五等级',\n",
    "       '土地级别_十八等级', '土地级别_十四等级', '土地级别_十级', '土地级别_四级', '土地级别_未评估地区']).fillna(0)\n",
    "land_level"
   ]
  },
  {
   "cell_type": "code",
   "execution_count": null,
   "metadata": {},
   "outputs": [],
   "source": [
    "lst = df['土地使用权类型'].value_counts()[df['土地使用权类型'].value_counts() == 1].index\n",
    "\n",
    "\n",
    "def to_land_use_right_type(cell):\n",
    "    if not isinstance(cell, str):\n",
    "        return cell\n",
    "    if cell not in lst:\n",
    "        return cell\n",
    "\n",
    "\n",
    "land_use_right_type = pd.get_dummies(df['土地使用权类型'].map(to_land_use_right_type), prefix='土地使用权类型').groupby('企业编号').sum().T\n",
    "land_use_right_type = land_use_right_type.reindex(columns=list(range(4001,4526))).fillna(0).reindex(['土地使用权类型_出让', '土地使用权类型_出让(协议)', '土地使用权类型_出让国有土地', '土地使用权类型_出让国有土地使用权',\n",
    "       '土地使用权类型_出让国有建设用地使用权', '土地使用权类型_出让地', '土地使用权类型_划拨', '土地使用权类型_协议',\n",
    "       '土地使用权类型_协议出让', '土地使用权类型_国有', '土地使用权类型_国有、出让', '土地使用权类型_国有出让',\n",
    "       '土地使用权类型_国有出让土地', '土地使用权类型_国有出让地', '土地使用权类型_国有出让用地', '土地使用权类型_国有土地使用权',\n",
    "       '土地使用权类型_国有土地使用权转让', '土地使用权类型_属出让', '土地使用权类型_挂牌出让', '土地使用权类型_授权经营',\n",
    "       '土地使用权类型_租赁', '土地使用权类型_转让', '土地使用权类型_集体土地使用权']).fillna(0)\n",
    "land_use_right_type"
   ]
  },
  {
   "cell_type": "code",
   "execution_count": null,
   "metadata": {},
   "outputs": [],
   "source": [
    "transfer_method = pd.get_dummies(df['转让方式'], prefix='转让方式').groupby('企业编号').sum().T\n",
    "transfer_method = transfer_method.reindex(columns=list(range(4001,4526))).fillna(0).reindex(['转让方式_1', '转让方式_3', '转让方式_6', '转让方式_7', '转让方式_买卖', '转让方式_交换',\n",
    "       '转让方式_作价出资入股', '转让方式_其他', '转让方式_继承']).fillna(0)\n",
    "transfer_method"
   ]
  },
  {
   "cell_type": "code",
   "execution_count": null,
   "metadata": {},
   "outputs": [],
   "source": [
    "pd.concat([land_level, land_use_right_type, transfer_method]).to_pickle('购地-市场交易-土地转让-testing.pickle')"
   ]
  },
  {
   "cell_type": "code",
   "execution_count": null,
   "metadata": {},
   "outputs": [],
   "source": []
  }
 ],
 "metadata": {
  "kernelspec": {
   "name": "python3",
   "language": "python",
   "display_name": "Python 3"
  },
  "language_info": {
   "name": "python",
   "pygments_lexer": "ipython3"
  }
 },
 "nbformat": 4,
 "nbformat_minor": 2
}
