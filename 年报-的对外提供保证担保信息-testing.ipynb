{
 "cells": [
  {
   "cell_type": "code",
   "execution_count": null,
   "metadata": {},
   "outputs": [],
   "source": [
    "from IPython.display import display\n",
    "import pandas as pd\n",
    "import csv\n",
    "import random\n",
    "import re\n",
    "# import pyperclip\n",
    "import numpy as np\n",
    "import seaborn as sns\n",
    "import requests\n",
    "import matplotlib, matplotlib.pyplot as plt\n",
    "import pprint\n",
    "import os\n",
    "import dateutil\n",
    "import datetime\n",
    "\n",
    "data=pd.read_excel(\"赛题1测试数据集\\年报-的对外提供保证担保信息.xlsx\").drop_duplicates(keep='first')\n",
    "                                                                 \n",
    "data"
   ]
  },
  {
   "cell_type": "code",
   "execution_count": null,
   "metadata": {},
   "outputs": [],
   "source": [
    "def get_number(cell):\n",
    "    if not isinstance(cell, str):\n",
    "        return cell\n",
    "    _ = re.findall(r'[\\d.]+',cell)\n",
    "    if not _:\n",
    "        return None\n",
    "    return float(_[0])"
   ]
  },
  {
   "cell_type": "code",
   "execution_count": null,
   "metadata": {},
   "outputs": [],
   "source": [
    "df_num=data[[\"企业编号\",'年报年份','主债权数额']].replace(\"企业选择不公示\",None).replace(\"万元\",None)\n",
    "df_num=df_num.applymap(get_number).groupby([\"企业编号\",\"年报年份\"]).sum().unstack().T.reindex(columns=list(range(4001,4526)))\n",
    "df_num"
   ]
  },
  {
   "cell_type": "code",
   "execution_count": null,
   "metadata": {},
   "outputs": [],
   "source": [
    "for i in range(len(data)):\n",
    "    if (type(data.iloc[i,0])==np.str and  data.iloc[i,0]!=\"企业选择不公示\"):\n",
    "        if(data.iloc[i,0][-2:]==\"万元\"):\n",
    "            data.iloc[i,0]=float(data.iloc[i,0][:-2])*10000\n",
    "        else:data.iloc[i,0]=float(data.iloc[i,0])\n",
    "data"
   ]
  },
  {
   "cell_type": "code",
   "execution_count": null,
   "metadata": {},
   "outputs": [],
   "source": [
    "def limit(cell):\n",
    "    if cell > 1:\n",
    "        return 1\n",
    "    return cell"
   ]
  },
  {
   "cell_type": "code",
   "execution_count": null,
   "metadata": {},
   "outputs": [],
   "source": [
    "df1=data.set_index(\"保证的期间\").loc[[\"期限\",\"企业选择不公示\",\"限期\",\"未约定\"],:].reset_index().set_index(\"企业编号\")\n",
    "\n",
    "\n",
    "dummy_1=pd.get_dummies(df1[\"保证的期间\"],prefix='保证的期间')\n",
    "dummy_1=dummy_1.groupby([\"企业编号\"]).mean()\n",
    "dummy_1[\"保证的期间_期限\"]=dummy_1[\"保证的期间_期限\"]+dummy_1[\"保证的期间_限期\"]\n",
    "dummy_1=dummy_1.drop(columns=\"保证的期间_限期\").T\n",
    "dummy_1=dummy_1.applymap(limit).reindex(columns=list(range(4001,4526))).fillna(0)\n",
    "dummy_1"
   ]
  },
  {
   "cell_type": "code",
   "execution_count": null,
   "metadata": {},
   "outputs": [],
   "source": [
    "df2=data.set_index(\"保证的方式\").loc[[\"连带保证\",\"企业选择不公示\",\"一般保证\",\"未约定\"],:].reset_index().set_index(\"企业编号\")\n",
    "\n",
    "\n",
    "dummy_2=pd.get_dummies(df2[\"保证的方式\"],prefix='保证的方式')\n",
    "dummy_2=dummy_2.groupby([\"企业编号\"]).mean().T\n",
    "dummy_2=dummy_2.applymap(limit).reindex(columns=list(range(4001,4526))).fillna(0)\n",
    "dummy_2"
   ]
  },
  {
   "cell_type": "code",
   "execution_count": null,
   "metadata": {},
   "outputs": [],
   "source": [
    "df3=data.set_index(\"主债权种类\").loc[[\"合同\",\"企业选择不公示\",\"其他\"],:].reset_index().set_index(\"企业编号\")\n",
    "\n",
    "dummy_3=pd.get_dummies(df3[\"主债权种类\"],prefix='主债权种类')\n",
    "dummy_3=dummy_3.groupby([\"企业编号\"]).mean().T\n",
    "dummy_3=dummy_3.applymap(limit).reindex(columns=list(range(4001,4526))).fillna(0)\n",
    "dummy_3"
   ]
  },
  {
   "cell_type": "code",
   "execution_count": null,
   "metadata": {},
   "outputs": [],
   "source": [
    "result_12=dummy_1.append(dummy_2).append(dummy_3).fillna(0).append(df_num)#三表连接\n",
    "result_12"
   ]
  },
  {
   "cell_type": "code",
   "execution_count": null,
   "metadata": {},
   "outputs": [],
   "source": [
    "result_12.to_pickle('年报-的对外提供保证担保信息-testing.pickle')"
   ]
  },
  {
   "cell_type": "code",
   "execution_count": null,
   "metadata": {},
   "outputs": [],
   "source": []
  }
 ],
 "metadata": {
  "kernelspec": {
   "name": "python3",
   "language": "python",
   "display_name": "Python 3"
  },
  "language_info": {
   "name": "python",
   "pygments_lexer": "ipython3"
  }
 },
 "nbformat": 4,
 "nbformat_minor": 2
}
