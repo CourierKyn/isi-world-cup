{
 "cells": [
  {
   "cell_type": "code",
   "execution_count": null,
   "metadata": {},
   "outputs": [],
   "source": [
    "import pandas as pd\n",
    "import numpy as np\n",
    "import re"
   ]
  },
  {
   "cell_type": "code",
   "execution_count": null,
   "metadata": {},
   "outputs": [],
   "source": [
    "data=pd.read_excel('赛题1数据材料\\赛题1数据集\\上市信息财务信息资产负债表.xlsx')"
   ]
  },
  {
   "cell_type": "code",
   "execution_count": null,
   "metadata": {},
   "outputs": [],
   "source": [
    "data"
   ]
  },
  {
   "cell_type": "code",
   "execution_count": null,
   "metadata": {},
   "outputs": [],
   "source": [
    "#将数字后的单位全部去除,只匹配数字，其余置为nan。\n",
    "def convert(cell):\n",
    "    pattern=r'[-\\d.]'\n",
    "    if cell == '--' or len(re.findall(pattern,cell)) == 0:\n",
    "        return np.nan\n",
    "    return float(''.join(re.findall(pattern, cell)))"
   ]
  },
  {
   "cell_type": "code",
   "execution_count": null,
   "metadata": {},
   "outputs": [],
   "source": [
    "datanew=data.iloc[:,3:]"
   ]
  },
  {
   "cell_type": "code",
   "execution_count": null,
   "metadata": {},
   "outputs": [],
   "source": [
    "datanew.applymap(str).applymap(convert)"
   ]
  },
  {
   "cell_type": "code",
   "execution_count": null,
   "metadata": {},
   "outputs": [],
   "source": [
    "#将两个表链接起来\n",
    "data=data.iloc[:,:3].join(datanew)"
   ]
  },
  {
   "cell_type": "code",
   "execution_count": null,
   "metadata": {},
   "outputs": [],
   "source": [
    "data"
   ]
  },
  {
   "cell_type": "code",
   "execution_count": null,
   "metadata": {},
   "outputs": [],
   "source": [
    "data['日期'].value_counts()"
   ]
  },
  {
   "cell_type": "code",
   "execution_count": null,
   "metadata": {},
   "outputs": [],
   "source": [
    "#补全时间，规整时间的格式\n",
    "pattern='\\d\\d\\d\\d-\\d\\d-\\d\\d'\n",
    "for i in range(len(data)):\n",
    "    if re.findall(pattern,data.iloc[i,2])==[]:\n",
    "        data.iloc[i,2]='20'+data.iloc[i,2]"
   ]
  },
  {
   "cell_type": "code",
   "execution_count": null,
   "metadata": {},
   "outputs": [],
   "source": [
    "#去除企业编号与日期值同时相同的行，保留第一次出现的行\n",
    "data.drop_duplicates(subset=['企业编号','日期'],keep='first',inplace=True)"
   ]
  },
  {
   "cell_type": "code",
   "execution_count": null,
   "metadata": {},
   "outputs": [],
   "source": [
    "#再次查看出现较多的时间\n",
    "data['日期'].value_counts()"
   ]
  },
  {
   "cell_type": "code",
   "execution_count": null,
   "metadata": {},
   "outputs": [],
   "source": [
    "#将数量较少的日期全部丢弃\n",
    "timelist=list(['2017-09-30','2017-12-31','2018-06-30','2018-09-30','2017-06-30','2018-03-31'])\n",
    "data=data[data['日期'].isin(timelist)]\n",
    "data"
   ]
  },
  {
   "cell_type": "code",
   "execution_count": null,
   "metadata": {},
   "outputs": [],
   "source": [
    "#转换数据格式\n",
    "def get_number(cell):\n",
    "    if not isinstance(cell, str):\n",
    "        return cell\n",
    "    _ = re.findall(r'[\\d.]+',cell)\n",
    "    if not _:\n",
    "        return None\n",
    "    return float(_[0])"
   ]
  },
  {
   "cell_type": "code",
   "execution_count": null,
   "metadata": {},
   "outputs": [],
   "source": [
    "data.iloc[:,3:]=data.iloc[:,3:].applymap(get_number)"
   ]
  },
  {
   "cell_type": "code",
   "execution_count": null,
   "metadata": {},
   "outputs": [],
   "source": [
    "data.sort_values(by=['企业编号','日期'],inplace=True)"
   ]
  },
  {
   "cell_type": "code",
   "execution_count": null,
   "metadata": {},
   "outputs": [],
   "source": [
    "#查看排序结果是否达到目标效果\n",
    "data.columns"
   ]
  },
  {
   "cell_type": "code",
   "execution_count": null,
   "metadata": {},
   "outputs": [],
   "source": [
    "def fuckdirty(cell):\n",
    "    if cell>100:\n",
    "        return None\n",
    "    else:\n",
    "        return cell"
   ]
  },
  {
   "cell_type": "code",
   "execution_count": null,
   "metadata": {},
   "outputs": [],
   "source": [
    "data.iloc[:,5:23]=data.iloc[:,5:23].applymap(fuckdirty)"
   ]
  },
  {
   "cell_type": "code",
   "execution_count": null,
   "metadata": {},
   "outputs": [],
   "source": [
    "data.columns=pd.Index(['企业编号', '标题', '日期', '$资产:货币资金(元)', '$资产:应收账款(元)', '$资产:其它应收款(元)',\n",
    "       '$资产:存货(元)', '$资产:流动资产合计(元)', '$资产:长期股权投资(元)', '$资产:累计折旧(元)', '$资产:固定资产(元)',\n",
    "       '$资产:无形资产(元)', '$资产:资产总计(元)', '$负债:应付账款(元)', '$负债:预收账款(元)', '$负债:存货跌价准备(元)',\n",
    "       '$负债:流动负债合计(元)', '$负债:长期负债合计(元)', '$负债:负债合计(元)', '$权益:实收资本(或股本)(元)',\n",
    "       '$权益:资本公积金(元)', '$权益:盈余公积金(元)', '$权益:股东权益合计(元)', '流动比率'])"
   ]
  },
  {
   "cell_type": "code",
   "execution_count": null,
   "metadata": {},
   "outputs": [],
   "source": [
    "# '资产:货币资金(元)',资产:应收账款(元),\n",
    "# data['资产:长期股权投资(元)'].value_counts()\n",
    "# data['资产:长期股权投资(元)'].describe()"
   ]
  },
  {
   "cell_type": "code",
   "execution_count": null,
   "metadata": {},
   "outputs": [],
   "source": [
    "data=data.set_index(['企业编号','日期'])\n",
    "data=data.unstack().reset_index().set_index('企业编号').T.drop('标题').drop('流动比率')"
   ]
  },
  {
   "cell_type": "code",
   "execution_count": null,
   "metadata": {},
   "outputs": [],
   "source": [
    "data=data.reindex(columns=list(range(1001,4001)))\n",
    "data.to_pickle('上市信息财务信息资产负债表.pickle')\n",
    "data"
   ]
  },
  {
   "cell_type": "code",
   "execution_count": null,
   "metadata": {},
   "outputs": [],
   "source": [
    "data.index"
   ]
  }
 ],
 "metadata": {
  "kernelspec": {
   "name": "python3",
   "language": "python",
   "display_name": "Python 3"
  },
  "language_info": {
   "name": "python",
   "pygments_lexer": "ipython3"
  }
 },
 "nbformat": 4,
 "nbformat_minor": 2
}
